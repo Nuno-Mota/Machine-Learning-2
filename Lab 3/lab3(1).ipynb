{
 "cells": [
  {
   "cell_type": "markdown",
   "metadata": {
    "deletable": false,
    "editable": false,
    "nbgrader": {
     "checksum": "9a10081f57b90a368eb8daf62e3ba00e",
     "grade": false,
     "grade_id": "cell-02487845739eb4fd",
     "locked": true,
     "schema_version": 1,
     "solution": false
    }
   },
   "source": [
    "### Lab 3: Expectation Maximization and Variational Autoencoder\n",
    "\n",
    "### Machine Learning 2 (2017/2018)\n",
    "\n",
    "* The lab exercises should be made in groups of two or three people.\n",
    "* The deadline is Friday, 01.06.\n",
    "* Assignment should be submitted through BlackBoard! Make sure to include your and your teammates' names with the submission.\n",
    "* Attach the .IPYNB (IPython Notebook) file containing your code and answers. Naming of the file should be \"studentid1\\_studentid2\\_lab#\", for example, the attached file should be \"12345\\_12346\\_lab1.ipynb\". Only use underscores (\"\\_\") to connect ids, otherwise the files cannot be parsed.\n",
    "\n",
    "Notes on implementation:\n",
    "\n",
    "* You should write your code and answers in an IPython Notebook: http://ipython.org/notebook.html. If you have problems, please ask.\n",
    "* Use __one cell__ for code and markdown answers only!\n",
    "    * Put all code in the cell with the ```# YOUR CODE HERE``` comment and overwrite the ```raise NotImplementedError()``` line.\n",
    "    * For theoretical questions, put your solution using LaTeX style formatting in the YOUR ANSWER HERE cell.\n",
    "* Among the first lines of your notebook should be \"%pylab inline\". This imports all required modules, and your plots will appear inline.\n",
    "* Large parts of you notebook will be graded automatically. Therefore it is important that your notebook can be run completely without errors and within a reasonable time limit. To test your notebook before submission, select Kernel -> Restart \\& Run All.\n",
    "$\\newcommand{\\bx}{\\mathbf{x}} \\newcommand{\\bpi}{\\mathbf{\\pi}} \\newcommand{\\bmu}{\\mathbf{\\mu}} \\newcommand{\\bX}{\\mathbf{X}} \\newcommand{\\bZ}{\\mathbf{Z}} \\newcommand{\\bz}{\\mathbf{z}}$"
   ]
  },
  {
   "cell_type": "markdown",
   "metadata": {
    "deletable": false,
    "editable": false,
    "nbgrader": {
     "checksum": "e4e05229ee79b55d6589e1ea8de68f32",
     "grade": false,
     "grade_id": "cell-a0a6fdb7ca694bee",
     "locked": true,
     "schema_version": 1,
     "solution": false
    }
   },
   "source": [
    "### Installing PyTorch\n",
    "\n",
    "In this lab we will use PyTorch. PyTorch is an open source deep learning framework primarily developed by Facebook's artificial-intelligence research group. In order to install PyTorch in your conda environment go to https://pytorch.org and select your operating system, conda, Python 3.6, no cuda. Copy the text from the \"Run this command:\" box. Now open a terminal and activate your 'ml2labs' conda environment. Paste the text and run. After the installation is done you should restart Jupyter."
   ]
  },
  {
   "cell_type": "markdown",
   "metadata": {
    "deletable": false,
    "editable": false,
    "nbgrader": {
     "checksum": "d9c3d77f550b5fd93b34fd18825c47f0",
     "grade": false,
     "grade_id": "cell-746cac8d9a21943b",
     "locked": true,
     "schema_version": 1,
     "solution": false
    }
   },
   "source": [
    "### MNIST data\n",
    "\n",
    "In this Lab we will use several methods for unsupervised learning on the MNIST dataset of written digits. The dataset contains digital images of handwritten numbers $0$ through $9$. Each image has 28x28 pixels that each take 256 values in a range from white ($= 0$) to  black ($=1$). The labels belonging to the images are also included. \n",
    "Fortunately, PyTorch comes with a MNIST data loader. The first time you run the box below it will download the MNIST data set. That can take a couple of minutes.\n",
    "The main data types in PyTorch are tensors. For Part 1, we will convert those tensors to numpy arrays. In Part 2, we will use the torch module to directly work with PyTorch tensors."
   ]
  },
  {
   "cell_type": "code",
   "execution_count": 1,
   "metadata": {
    "deletable": false,
    "editable": false,
    "nbgrader": {
     "checksum": "4fbc152afa1255331d7b88bf00b7156c",
     "grade": false,
     "grade_id": "cell-7c995be0fda080c0",
     "locked": true,
     "schema_version": 1,
     "solution": false
    }
   },
   "outputs": [
    {
     "name": "stdout",
     "output_type": "stream",
     "text": [
      "Populating the interactive namespace from numpy and matplotlib\n"
     ]
    }
   ],
   "source": [
    "%pylab inline\n",
    "import torch\n",
    "from torchvision import datasets, transforms\n",
    "\n",
    "train_dataset = datasets.MNIST('../data', train=True, download=True,\n",
    "                   transform=transforms.Compose([\n",
    "                       transforms.ToTensor(),\n",
    "                       transforms.Normalize((0.1307,), (0.3081,))\n",
    "                   ]))\n",
    "\n",
    "train_labels = train_dataset.train_labels.numpy()\n",
    "train_data = train_dataset.train_data.numpy()\n",
    "# For EM we will use flattened data\n",
    "train_data = train_data.reshape(train_data.shape[0], -1)\n"
   ]
  },
  {
   "cell_type": "markdown",
   "metadata": {
    "deletable": false,
    "editable": false,
    "nbgrader": {
     "checksum": "4fc852f9bfb0bab10d4c23eada309e89",
     "grade": false,
     "grade_id": "cell-8b4a44df532b1867",
     "locked": true,
     "schema_version": 1,
     "solution": false
    }
   },
   "source": [
    "## Part 1: Expectation Maximization\n",
    "We will use the Expectation Maximization (EM) algorithm for the recognition of handwritten digits in the MNIST dataset. The images are modelled as a Bernoulli mixture model (see Bishop $\\S9.3.3$):\n",
    "$$\n",
    "p(\\bx|\\bmu, \\bpi) = \\sum_{k=1}^K  \\pi_k \\prod_{i=1}^D \\mu_{ki}^{x_i}(1-\\mu_{ki})^{(1-x_i)}\n",
    "$$\n",
    "where $x_i$ is the value of pixel $i$ in an image, $\\mu_{ki}$ represents the probability that pixel $i$ in class $k$ is black, and $\\{\\pi_1, \\ldots, \\pi_K\\}$ are the mixing coefficients of classes in the data. We want to use this data set to classify new images of handwritten numbers."
   ]
  },
  {
   "cell_type": "markdown",
   "metadata": {
    "deletable": false,
    "editable": false,
    "nbgrader": {
     "checksum": "54064637b7e7cf938c0f778d748a226a",
     "grade": false,
     "grade_id": "cell-af03fef663aa85b2",
     "locked": true,
     "schema_version": 1,
     "solution": false
    }
   },
   "source": [
    "### 1.1 Binary data (5 points)\n",
    "As we like to apply our Bernoulli mixture model, write a function `binarize` to convert the (flattened) MNIST data to binary images, where each pixel $x_i \\in \\{0,1\\}$, by thresholding at an appropriate level."
   ]
  },
  {
   "cell_type": "code",
   "execution_count": 2,
   "metadata": {
    "deletable": false,
    "nbgrader": {
     "checksum": "fe8607a4d734f7f26ef1ee1e54b33471",
     "grade": false,
     "grade_id": "cell-ec4365531ca57ef3",
     "locked": false,
     "schema_version": 1,
     "solution": true
    }
   },
   "outputs": [],
   "source": [
    "def binarize(X):\n",
    "    return (X >= 255/2).astype(float)"
   ]
  },
  {
   "cell_type": "code",
   "execution_count": 3,
   "metadata": {
    "deletable": false,
    "editable": false,
    "nbgrader": {
     "checksum": "231b2c9f29bc5c536c60cef4d74793a1",
     "grade": true,
     "grade_id": "cell-2f16f57cb68a83b3",
     "locked": true,
     "points": 5,
     "schema_version": 1,
     "solution": false
    }
   },
   "outputs": [],
   "source": [
    "# Test test test!\n",
    "bin_train_data = binarize(train_data)\n",
    "assert bin_train_data.dtype == np.float\n",
    "assert bin_train_data.shape == train_data.shape\n"
   ]
  },
  {
   "cell_type": "markdown",
   "metadata": {
    "deletable": false,
    "editable": false,
    "nbgrader": {
     "checksum": "a0a39404cc2f67078b399ee34653a3ac",
     "grade": false,
     "grade_id": "cell-462e747685e8670f",
     "locked": true,
     "schema_version": 1,
     "solution": false
    }
   },
   "source": [
    "Sample a few images of digits $2$, $3$ and $4$; and show both the original and the binarized image together with their label."
   ]
  },
  {
   "cell_type": "code",
   "execution_count": 4,
   "metadata": {
    "deletable": false,
    "nbgrader": {
     "checksum": "3f3c981f0fda5ba3bdfcefb9144305c7",
     "grade": true,
     "grade_id": "cell-784c6bd177a9aa42",
     "locked": false,
     "points": 5,
     "schema_version": 1,
     "solution": true
    }
   },
   "outputs": [
    {
     "data": {
      "image/png": "[encoded data removed]",
      "text/plain": [
       "<Figure size 1440x216 with 4 Axes>"
      ]
     },
     "metadata": {},
     "output_type": "display_data"
    },
    {
     "data": {
      "image/png": "[encoded data removed]",
      "text/plain": [
       "<Figure size 1440x216 with 4 Axes>"
      ]
     },
     "metadata": {},
     "output_type": "display_data"
    },
    {
     "data": {
      "image/png": "[encoded data removed]",
      "text/plain": [
       "<Figure size 1440x216 with 4 Axes>"
      ]
     },
     "metadata": {},
     "output_type": "display_data"
    }
   ],
   "source": [
    "N_samples_per_digit = 2\n",
    "\n",
    "for digit in range(2, 5):\n",
    "    digit_indices = np.array(np.where(train_labels == digit))[0]\n",
    "    digit_indices_samples = digit_indices[np.random.randint(0, digit_indices.shape[0], N_samples_per_digit)]\n",
    "    \n",
    "    plt.subplots(1,N_samples_per_digit*2,figsize=(20,3))\n",
    "    \n",
    "    for j in range(N_samples_per_digit):\n",
    "        plt.subplot(1,N_samples_per_digit*2, 2*j+1)\n",
    "        plt.imshow(np.reshape(train_data[digit_indices_samples[j]], (28, 28)), cmap='gray')\n",
    "        plt.title(\"Original \" + str(digit))\n",
    "        \n",
    "        plt.subplot(1,N_samples_per_digit*2, 2*j+2)\n",
    "        plt.imshow(np.reshape(bin_train_data[digit_indices_samples[j]], (28, 28)), cmap='gray')\n",
    "        plt.title(\"Binarized \" + str(digit))\n",
    "    plt.show()"
   ]
  },
  {
   "cell_type": "markdown",
   "metadata": {
    "deletable": false,
    "editable": false,
    "nbgrader": {
     "checksum": "4b9da574d24193df76e96ed8ca62c7b0",
     "grade": false,
     "grade_id": "cell-56b33654497d4052",
     "locked": true,
     "schema_version": 1,
     "solution": false
    }
   },
   "source": [
    "### 1.2 Implementation (40 points)\n",
    "You are going to write a function ```EM(X, K, max_iter)``` that implements the EM algorithm on the Bernoulli mixture model. \n",
    "\n",
    "The only parameters the function has are:\n",
    "* ```X``` :: (NxD) array of input training images\n",
    "* ```K``` :: size of the latent space\n",
    "* ```max_iter``` :: maximum number of iterations, i.e. one E-step and one M-step\n",
    "\n",
    "You are free to specify your return statement.\n",
    "\n",
    "Make sure you use a sensible way of terminating the iteration process early to prevent unnecessarily running through all epochs. Vectorize computations using ```numpy``` as  much as possible.\n",
    "\n",
    "You should implement the `E_step(X, mu, pi)` and `M_step(X, gamma)` separately in the functions defined below. These you can then use in your function `EM(X, K, max_iter)`."
   ]
  },
  {
   "cell_type": "code",
   "execution_count": 5,
   "metadata": {
    "deletable": false,
    "nbgrader": {
     "checksum": "316c9131692747c363b5db8e9091d362",
     "grade": false,
     "grade_id": "cell-882b13c117a73cc4",
     "locked": false,
     "schema_version": 1,
     "solution": true
    }
   },
   "outputs": [],
   "source": [
    "def E_step(X, mu, pi):\n",
    "    stability_factor = 1e-15\n",
    "    log_one_minus_mu = np.log(1. - mu + stability_factor)\n",
    "    log_mu = np.log(mu + stability_factor)\n",
    "    \n",
    "    log_mus = np.concatenate((log_mu, log_one_minus_mu), axis=1)\n",
    "    data_doubled = np.concatenate((X, 1.-X), axis=1)\n",
    "    \n",
    "    effective_data = np.dot(data_doubled, np.transpose(log_mus))\n",
    "    \n",
    "    log_mixture_values = effective_data + np.log(pi).reshape((1, -1))\n",
    "    \n",
    "    max_log_mixture_values = np.amax(log_mixture_values, axis=1)\n",
    "    \n",
    "    log_normalisers = max_log_mixture_values + np.log(np.sum(np.exp(log_mixture_values -\n",
    "                                                                    max_log_mixture_values.reshape((-1, 1))), axis=1))\n",
    "    \n",
    "    return np.exp(log_mixture_values - log_normalisers.reshape((-1, 1)))"
   ]
  },
  {
   "cell_type": "code",
   "execution_count": 6,
   "metadata": {
    "deletable": false,
    "editable": false,
    "nbgrader": {
     "checksum": "1418f4014e98024fc97446ce27766c1d",
     "grade": true,
     "grade_id": "cell-f7c7dd52d82e2498",
     "locked": true,
     "points": 15,
     "schema_version": 1,
     "solution": false
    }
   },
   "outputs": [],
   "source": [
    "# Let's test on 5 datapoints\n",
    "n_test = 5\n",
    "X_test = bin_train_data[:n_test]\n",
    "D_test, K_test = X_test.shape[1], 10\n",
    "\n",
    "np.random.seed(2018)\n",
    "mu_test = np.random.uniform(low=.25, high=.75, size=(K_test,D_test))\n",
    "pi_test = np.ones(K_test) / K_test\n",
    "\n",
    "gamma_test = E_step(X_test, mu_test, pi_test)\n",
    "assert gamma_test.shape == (n_test, K_test)\n"
   ]
  },
  {
   "cell_type": "code",
   "execution_count": 7,
   "metadata": {
    "deletable": false,
    "nbgrader": {
     "checksum": "2c426a613653174795cd9c8327ab6e20",
     "grade": false,
     "grade_id": "cell-f1b11b8765bd1ef6",
     "locked": false,
     "schema_version": 1,
     "solution": true
    }
   },
   "outputs": [],
   "source": [
    "def M_step(X, gamma):\n",
    "    \n",
    "    N_ks = np.sum(gamma, axis=0)\n",
    "    \n",
    "    mu = np.transpose(np.dot(np.transpose(X), gamma))/N_ks.reshape((-1, 1))\n",
    "        \n",
    "    N = np.sum(N_ks)\n",
    "    pi = N_ks/N\n",
    "    \n",
    "    return mu, pi"
   ]
  },
  {
   "cell_type": "code",
   "execution_count": 8,
   "metadata": {
    "deletable": false,
    "editable": false,
    "nbgrader": {
     "checksum": "0f60d48b8b22063cef560b42944a0aa4",
     "grade": true,
     "grade_id": "cell-6e7c751b30acfd45",
     "locked": true,
     "points": 15,
     "schema_version": 1,
     "solution": false
    }
   },
   "outputs": [],
   "source": [
    "# Oh, let's test again\n",
    "mu_test, pi_test = M_step(X_test, gamma_test)\n",
    "\n",
    "assert mu_test.shape == (K_test,D_test)\n",
    "assert pi_test.shape == (K_test, )\n"
   ]
  },
  {
   "cell_type": "code",
   "execution_count": 9,
   "metadata": {
    "deletable": false,
    "nbgrader": {
     "checksum": "acfec6384b058cb0ce1932006fbfebc4",
     "grade": true,
     "grade_id": "cell-d6c4368246dee7e6",
     "locked": false,
     "points": 10,
     "schema_version": 1,
     "solution": true
    },
    "scrolled": false
   },
   "outputs": [],
   "source": [
    "def EM(X, K, max_iter, mu=None, pi=None):\n",
    "\n",
    "    param_conv_mu = 1e-2/K\n",
    "    param_conv_pi = 1e-2/K\n",
    "\n",
    "    if (mu is None):\n",
    "        mu = np.random.uniform(0.1, 0.9, (K, X.shape[1]))\n",
    "\n",
    "    # TODO: maybe it's more sensible to initialize pi by setting all classes to have equal prob\n",
    "    if (pi is None):\n",
    "        pi = np.ones(K)/K\n",
    "        #pi = np.random.uniform(0, 1, K)\n",
    "        #pi = pi/np.sum(pi)\n",
    "\n",
    "    def fancy_print(i, norm_dMu, norm_dPi):\n",
    "        print(\"\\rStep nº: \" + \"{:3d}\".format(i+1) +\n",
    "              \" ||| norm_dMu = \" + \"{:1.4e}\".format(norm_dMu) +\n",
    "              \" (Converges at: \" + \"{:1.4e}\".format(param_conv_mu) +\n",
    "              \") ||| norm_dPi = \" + \"{:1.4e}\".format(norm_dPi) +\n",
    "              \" (Converges at: \" + \"{:1.4e}\".format(param_conv_pi) + \").\", end=\"\", flush=True)\n",
    "\n",
    "    for iteration in range(max_iter):\n",
    "        gamma = E_step(X, mu, pi)\n",
    "        new_mu, new_pi = M_step(X, gamma)\n",
    "\n",
    "        norm_dMu = np.linalg.norm(new_mu - mu)\n",
    "        norm_dPi = np.linalg.norm(new_pi - pi)\n",
    "        \n",
    "        mu = new_mu\n",
    "        pi = new_pi\n",
    "        \n",
    "        fancy_print(iteration, norm_dMu, norm_dPi)\n",
    "\n",
    "        if (norm_dMu < param_conv_mu and norm_dPi < param_conv_pi):\n",
    "            print(\"\\n\\nAlgorithm has converged\")\n",
    "            return mu, pi, gamma\n",
    "            \n",
    "    print(\"\\n\\nMax number of iterations reached.\")\n",
    "    \n",
    "    return mu, pi, gamma"
   ]
  },
  {
   "cell_type": "markdown",
   "metadata": {
    "deletable": false,
    "editable": false,
    "nbgrader": {
     "checksum": "b4fc12faa0da660f7a4d9cc7deb41b25",
     "grade": false,
     "grade_id": "cell-e1077ed3b83489be",
     "locked": true,
     "schema_version": 1,
     "solution": false
    }
   },
   "source": [
    "### 1.3 Three digits experiment (10 points)\n",
    "In analogue with Bishop $\\S9.3.3$, sample a training set consisting of only __binary__ images of written digits $2$, $3$, and $4$. Run your EM algorithm and show the reconstructed digits."
   ]
  },
  {
   "cell_type": "code",
   "execution_count": 10,
   "metadata": {
    "deletable": false,
    "nbgrader": {
     "checksum": "bdbce0fad0ed151063d4c489ce999e3e",
     "grade": true,
     "grade_id": "cell-477155d0264d7259",
     "locked": false,
     "points": 5,
     "schema_version": 1,
     "solution": true
    }
   },
   "outputs": [
    {
     "name": "stdout",
     "output_type": "stream",
     "text": [
      "Step nº:  19 ||| norm_dMu = 2.5243e-03 (Converges at: 3.3333e-03) ||| norm_dPi = 1.9156e-04 (Converges at: 3.3333e-03).\n",
      "\n",
      "Algorithm has converged\n",
      "\n",
      "\n",
      "\n",
      "True PI: 2 --> 0.33227371591099214 ||| 3 --> 0.34192181138809885 ||| 4 --> 0.32580447270090906\n",
      "\n",
      "PI: K=0 --> 0.347723815453815 ||| K=1 --> 0.3188051254750901 ||| K=2 --> 0.333471059071095\n"
     ]
    },
    {
     "data": {
      "image/png": "[encoded data removed]",
      "text/plain": [
       "<Figure size 1440x216 with 3 Axes>"
      ]
     },
     "metadata": {},
     "output_type": "display_data"
    }
   ],
   "source": [
    "# Gets the relevant data. An unbalanced digit can be selected, in order to observe the correct modelling\n",
    "# of the true coefficients\n",
    "digit_indices = []\n",
    "counts = []\n",
    "unbalanced_digit = None\n",
    "for i in range(2, 5):\n",
    "    if (i == unbalanced_digit):\n",
    "        indices = list(np.where(train_labels == i)[0])[:3000]\n",
    "    else:\n",
    "        indices = list(np.where(train_labels == i)[0])\n",
    "    counts.append(len(indices))\n",
    "    digit_indices += indices\n",
    "\n",
    "true_pi = np.array(counts)/np.sum(np.array(counts))\n",
    "\n",
    "bin_train_data_234 = bin_train_data[np.array(digit_indices)]\n",
    "\n",
    "num_classes = 3\n",
    "pi = np.ones(num_classes)/num_classes\n",
    "mu = np.random.uniform(0.25, 0.75, (num_classes, bin_train_data_234.shape[1]))\n",
    "normaliser = np.sum(mu, axis=1)\n",
    "mu = mu/normaliser.reshape(-1, 1)\n",
    "\n",
    "\n",
    "mu, pi, gamma = EM(bin_train_data_234, num_classes, 250, mu, pi)\n",
    "\n",
    "print(\"\\n\\n\\nTrue PI: 2 --> \" + str(true_pi[0]) + \" ||| 3 --> \" + str(true_pi[1]) + \" ||| 4 --> \" + str(true_pi[2]))\n",
    "print(\"\\nPI: K=0 --> \" + str(pi[0]) + \" ||| K=1 --> \" + str(pi[1]) + \" ||| K=2 --> \" + str(pi[2]))\n",
    "\n",
    "plt.subplots(1, 3,figsize=(20,3))\n",
    "for i in range (2, 5):\n",
    "    \n",
    "    plt.subplot(1,3, i-1)\n",
    "    plt.imshow(np.reshape(mu[i-2], (28, 28)), cmap='gray')\n",
    "    plt.title(\"K: \" + str(i-2))\n",
    "\n",
    "plt.show()"
   ]
  },
  {
   "cell_type": "markdown",
   "metadata": {
    "deletable": false,
    "editable": false,
    "nbgrader": {
     "checksum": "485543f4893938d2a9dc1c17d8221cbc",
     "grade": false,
     "grade_id": "cell-88c9664f995b1909",
     "locked": true,
     "schema_version": 1,
     "solution": false
    }
   },
   "source": [
    "Can you identify which element in the latent space corresponds to which digit? What are the identified mixing coefficients for digits $2$, $3$ and $4$, and how do these compare to the true ones?"
   ]
  },
  {
   "cell_type": "markdown",
   "metadata": {
    "deletable": false,
    "nbgrader": {
     "checksum": "ae7b5acea6089e2590059f90b0d0a0be",
     "grade": true,
     "grade_id": "cell-3680ae2159c48193",
     "locked": false,
     "points": 5,
     "schema_version": 1,
     "solution": true
    }
   },
   "source": [
    "------------------------\n",
    "Yes, it's clearly visible which digit each class is modelling. Printing the latent space gives us the shape of the digits, as shown.\n",
    "The mixing coefficients are all quite similar, which is to be expected. However, if for one class we train with far fewer examples than the other two, we can easily observe that the mixing coefficients tend to be similar to the true ones! (This can be verified by setting the unbalanced digit to one of the 3 digits in the experiment. If all the data is meant to be used, set unbalanced_digit to None)."
   ]
  },
  {
   "cell_type": "markdown",
   "metadata": {
    "deletable": false,
    "editable": false,
    "nbgrader": {
     "checksum": "98e04feb59a36867367b3027df9e226d",
     "grade": false,
     "grade_id": "cell-0891dda1c3e80e9a",
     "locked": true,
     "schema_version": 1,
     "solution": false
    }
   },
   "source": [
    "### 1.4 Experiments (20 points)\n",
    "Perform the follow-up experiments listed below using your implementation of the EM algorithm. For each of these, describe/comment on the obtained results and give an explanation. You may still use your dataset with only digits 2, 3 and 4 as otherwise computations can take very long."
   ]
  },
  {
   "cell_type": "markdown",
   "metadata": {
    "deletable": false,
    "editable": false,
    "nbgrader": {
     "checksum": "439067186fa3ef1d7261a9bcf5a84ea6",
     "grade": false,
     "grade_id": "cell-06fe1b1355689928",
     "locked": true,
     "schema_version": 1,
     "solution": false
    }
   },
   "source": [
    "#### 1.4.1 Size of the latent space (5 points)\n",
    "Run EM with $K$ larger or smaller than the true number of classes. Describe your results."
   ]
  },
  {
   "cell_type": "code",
   "execution_count": 11,
   "metadata": {
    "deletable": false,
    "nbgrader": {
     "checksum": "791512aeadd30c4b586b966ca10e6fad",
     "grade": true,
     "grade_id": "cell-6c9057f2546b7215",
     "locked": false,
     "points": 2,
     "schema_version": 1,
     "solution": true
    }
   },
   "outputs": [
    {
     "name": "stdout",
     "output_type": "stream",
     "text": [
      "Step nº: 204 ||| norm_dMu = 6.4806e-04 (Converges at: 6.6667e-04) ||| norm_dPi = 4.2691e-06 (Converges at: 6.6667e-04).\n",
      "\n",
      "Algorithm has converged\n"
     ]
    },
    {
     "data": {
      "image/png": "[encoded data removed]",
      "text/plain": [
       "<Figure size 1080x1080 with 15 Axes>"
      ]
     },
     "metadata": {},
     "output_type": "display_data"
    }
   ],
   "source": [
    "num_classes = 15\n",
    "mu, pi, gamma = EM(bin_train_data_234, num_classes, 250)\n",
    "\n",
    "# Printing of Results\n",
    "n_rows = num_classes // 4 \n",
    "n_rows += num_classes % 4\n",
    "\n",
    "fig = plt.figure(1, figsize=(15,15))\n",
    "for i in range (num_classes):\n",
    "    \n",
    "    ax = plt.subplot2grid((n_rows, 4),(i//4, i%4), fig=fig)\n",
    "    ax.imshow(np.reshape(mu[i], (28, 28)), cmap='gray')\n",
    "    ax.set_title(\"K: \" + str(i) + \" ||| pi: \" + \"{:.4f}\".format(pi[i]))\n",
    "\n",
    "plt.tight_layout()\n",
    "plt.show()"
   ]
  },
  {
   "cell_type": "markdown",
   "metadata": {
    "deletable": false,
    "nbgrader": {
     "checksum": "e12e40c2d2165e3bb500b5504128910d",
     "grade": true,
     "grade_id": "cell-f01c37653160244b",
     "locked": false,
     "points": 3,
     "schema_version": 1,
     "solution": true
    }
   },
   "source": [
    "-----------------------------\n",
    "The most clear observation is that each digit has now multiple corresponding classes. Upon closer inspection it can be observed that these classes don't all encode the same information. For example, same encode more \"sloped\" digits vs more vertical ones. Another example can be the loop in the bottom of the twos, which is present in some of the latent classes, but not others.\n",
    "\n",
    "For K smaller than the true number of classes, we observe that the latent space starts to strongly encode mixtures of all the existing digits, with, maybe, some classes still encoding mostly 1 digit and others encoding the mixture of more than 1 digit.\n",
    "\n",
    "It can also be observed that, sometimes, with a lot of classes and a completely random assignment of parameters, some of the classes will tend to be assigned to outlier digits, which can be verified by their mixture components being extremely small and goes in line with what is explained in Bishop."
   ]
  },
  {
   "cell_type": "markdown",
   "metadata": {
    "deletable": false,
    "editable": false,
    "nbgrader": {
     "checksum": "b306681523a2e35eea310ac10bb68999",
     "grade": false,
     "grade_id": "cell-cf478d67239b7f2e",
     "locked": true,
     "schema_version": 1,
     "solution": false
    }
   },
   "source": [
    "#### 1.4.2 Identify misclassifications (10 points)\n",
    "How can you use the data labels to assign a label to each of the clusters/latent variables? Use this to identify images that are 'misclassified' and try to understand why they are. Report your findings."
   ]
  },
  {
   "cell_type": "code",
   "execution_count": 12,
   "metadata": {},
   "outputs": [
    {
     "name": "stdout",
     "output_type": "stream",
     "text": [
      "Step nº:  23 ||| norm_dMu = 2.4143e-03 (Converges at: 3.3333e-03) ||| norm_dPi = 2.0156e-04 (Converges at: 3.3333e-03).\n",
      "\n",
      "Algorithm has converged\n"
     ]
    },
    {
     "data": {
      "image/png": "[encoded data removed]",
      "text/plain": [
       "<Figure size 1080x1080 with 3 Axes>"
      ]
     },
     "metadata": {},
     "output_type": "display_data"
    }
   ],
   "source": [
    "# Visualize classes, so we know which latent class encodes which digit\n",
    "num_classes = 3\n",
    "mu, pi, gamma = EM(bin_train_data_234, num_classes, 250)\n",
    "\n",
    "# Printing of Results\n",
    "n_rows = num_classes // 4 \n",
    "n_rows += num_classes % 4\n",
    "\n",
    "fig = plt.figure(1, figsize=(15,15))\n",
    "for i in range (num_classes):\n",
    "    \n",
    "    ax = plt.subplot2grid((n_rows, 4),(i//4, i%4), fig=fig)\n",
    "    ax.imshow(np.reshape(mu[i], (28, 28)), cmap='gray')\n",
    "    ax.set_title(\"K: \" + str(i) + \" ||| pi: \" + \"{:.4f}\".format(pi[i]))\n",
    "\n",
    "plt.tight_layout()\n",
    "plt.show()"
   ]
  },
  {
   "cell_type": "code",
   "execution_count": 13,
   "metadata": {},
   "outputs": [
    {
     "name": "stdout",
     "output_type": "stream",
     "text": [
      "[[ 302  191 5761]\n",
      " [5070  573   62]\n",
      " [ 586 5367   19]]\n",
      "['K: 0 --> 4', 'K: 1 --> 2', 'K: 2 --> 3']\n"
     ]
    }
   ],
   "source": [
    "label_counts_per_latent_var = np.zeros((num_classes, 3)).astype(int)\n",
    "\n",
    "for i, gamma_n in enumerate(gamma):\n",
    "    cluster_for_n = np.argmax(gamma_n)\n",
    "    label_counts_per_latent_var[cluster_for_n, train_labels[digit_indices[i]]-2] += 1\n",
    "    \n",
    "latent_var_to_digit = np.argmax(label_counts_per_latent_var, axis=1)+2\n",
    "\n",
    "print(label_counts_per_latent_var)\n",
    "print([\"K: \" + str(k) + \" --> \" + str(latent_var_to_digit[k]) for k in range(latent_var_to_digit.shape[0])])"
   ]
  },
  {
   "cell_type": "code",
   "execution_count": 14,
   "metadata": {
    "deletable": false,
    "nbgrader": {
     "checksum": "000c11bd8756a4e24296c7c55d3ee17e",
     "grade": true,
     "grade_id": "cell-daa1a492fbba5c7e",
     "locked": false,
     "points": 5,
     "schema_version": 1,
     "solution": true
    },
    "scrolled": false
   },
   "outputs": [
    {
     "name": "stdout",
     "output_type": "stream",
     "text": [
      "Total number of data points: 17931\n",
      "Correct Labels: 90.3352%\n",
      "Incorrect Labels: 9.6648%\n"
     ]
    },
    {
     "data": {
      "image/png": "[encoded data removed]",
      "text/plain": [
       "<Figure size 1080x1080 with 20 Axes>"
      ]
     },
     "metadata": {},
     "output_type": "display_data"
    }
   ],
   "source": [
    "correct = 0\n",
    "incorrect = []\n",
    "\n",
    "for i, label_index in enumerate(digit_indices):\n",
    "    estimated_class = np.argmax(gamma[i, :])\n",
    "    if (latent_var_to_digit[estimated_class] == train_labels[label_index]):\n",
    "        correct += 1\n",
    "    else:\n",
    "        incorrect.append([latent_var_to_digit[estimated_class], label_index])\n",
    "\n",
    "\n",
    "print(\"Total number of data points: \" + str(len(digit_indices)))\n",
    "print(\"Correct Labels: \" + \"{:.4f}%\".format(100*correct/len(digit_indices)))\n",
    "print(\"Incorrect Labels: \" + \"{:.4f}%\".format(100*len(incorrect)/len(digit_indices)))\n",
    "\n",
    "\n",
    "# Printing of Results\n",
    "def show_many_images(incorrect, n_incorrect_imgs_to_show):\n",
    "    n_rows = n_incorrect_imgs_to_show // 4 \n",
    "    n_rows += n_incorrect_imgs_to_show % 4\n",
    "    \n",
    "    fig = plt.figure(1, figsize=(15,3*n_rows))\n",
    "    \n",
    "    for i in range(n_incorrect_imgs_to_show):\n",
    "        ax = plt.subplot2grid((n_rows, 4),(i//4, i%4), fig=fig)\n",
    "        ax.imshow(np.reshape(bin_train_data[incorrect[i, 1]], (28, 28)), cmap='gray')\n",
    "        ax.set_title(\"Pred: \" + str(incorrect[i, 0]) + \" ||| Correct: \" + str(train_labels[incorrect[i, 1]]))\n",
    "        ax.axis('off')\n",
    "        \n",
    "    plt.tight_layout()\n",
    "    plt.show()\n",
    "\n",
    "n_incorrect_imgs_to_show = 20\n",
    "incorrect = np.array(incorrect)\n",
    "incorrect_idxs_to_show = np.random.choice(np.arange(incorrect.shape[0]), n_incorrect_imgs_to_show).astype(int)\n",
    "show_many_images(incorrect[incorrect_idxs_to_show], n_incorrect_imgs_to_show)"
   ]
  },
  {
   "cell_type": "markdown",
   "metadata": {
    "deletable": false,
    "nbgrader": {
     "checksum": "baf43434481c13d76ad51e3ba07e2bf5",
     "grade": true,
     "grade_id": "cell-329245c02df7850d",
     "locked": false,
     "points": 5,
     "schema_version": 1,
     "solution": true
    }
   },
   "source": [
    "------------------------\n",
    "We find most of the incorrectly classified numbers are written a bit unconventionally. This digits probably represent outliers amongst the data (from what is observed, mostly due to poor handwriting). We're not surprised these are misclassified."
   ]
  },
  {
   "cell_type": "markdown",
   "metadata": {
    "deletable": false,
    "editable": false,
    "nbgrader": {
     "checksum": "640bc57a2d08c3becf534bb5e4b35971",
     "grade": false,
     "grade_id": "cell-67ce1222e8a7837b",
     "locked": true,
     "schema_version": 1,
     "solution": false
    }
   },
   "source": [
    "#### 1.4.3 Initialize with true values (5 points)\n",
    "Initialize the three classes with the true values of the parameters and see what happens. Report your results."
   ]
  },
  {
   "cell_type": "code",
   "execution_count": 15,
   "metadata": {
    "deletable": false,
    "nbgrader": {
     "checksum": "a48f788e286458ef0f776865a3bcd58b",
     "grade": true,
     "grade_id": "cell-aa5d6b9f941d985d",
     "locked": false,
     "points": 2,
     "schema_version": 1,
     "solution": true
    }
   },
   "outputs": [
    {
     "name": "stdout",
     "output_type": "stream",
     "text": [
      "Step nº:  10 ||| norm_dMu = 3.1092e-03 (Converges at: 3.3333e-03) ||| norm_dPi = 1.2293e-04 (Converges at: 3.3333e-03).\n",
      "\n",
      "Algorithm has converged\n",
      "\n",
      "\n",
      "\n",
      "True PI: [0.33227372 0.34192181 0.32580447]\n",
      "PI: [0.32093617 0.33057582 0.348488  ]\n"
     ]
    },
    {
     "data": {
      "image/png": "[encoded data removed]",
      "text/plain": [
       "<Figure size 1440x216 with 3 Axes>"
      ]
     },
     "metadata": {},
     "output_type": "display_data"
    }
   ],
   "source": [
    "num_classes = 3\n",
    "\n",
    "pi = []\n",
    "mu = []\n",
    "digit_indices = []\n",
    "for i in range(2, 5):\n",
    "    digit_indices = np.array(np.where(train_labels == i)[0])\n",
    "    pi.append(digit_indices.shape[0])\n",
    "    mu.append(np.mean(bin_train_data[digit_indices], axis=0))\n",
    "    \n",
    "pi = np.array(pi)\n",
    "true_pi = pi/np.sum(pi)\n",
    "mu = np.array(mu)\n",
    "\n",
    "\n",
    "mu, pi, _ = EM(bin_train_data_234, 3, 25, mu, true_pi)\n",
    "\n",
    "\n",
    "print(\"\\n\\n\\nTrue PI: \" + str(true_pi))\n",
    "print(\"PI: \" + str(pi))\n",
    "\n",
    "plt.subplots(1, 3,figsize=(20,3))\n",
    "for i in range (2, 5):\n",
    "    \n",
    "    plt.subplot(1,3, i-1)\n",
    "    plt.imshow(np.reshape(mu[i-2], (28, 28)), cmap='gray')\n",
    "    plt.title(\"K: \" + str(i-2))\n",
    "\n",
    "plt.show()"
   ]
  },
  {
   "cell_type": "markdown",
   "metadata": {
    "deletable": false,
    "nbgrader": {
     "checksum": "1dc4adf3081f3bec93f94c3b12b87db9",
     "grade": true,
     "grade_id": "cell-981e44f35a3764b0",
     "locked": false,
     "points": 3,
     "schema_version": 1,
     "solution": true
    }
   },
   "source": [
    "We observe is that each latent variable converges to the corresponding digit (given that k=0 was given the mean of the twos, k=1 the mean of the threes and k=2 the mean of the fours). Since the EM algorithm is given a jumpstart towards the true parameters, it is expectable that it won't have to train as much as it normally would. This is verified in our results, usually taking around 10 steps."
   ]
  },
  {
   "cell_type": "markdown",
   "metadata": {
    "deletable": false,
    "editable": false,
    "nbgrader": {
     "checksum": "bd613f41e5d2b7d22b0d5b1e7644a48a",
     "grade": false,
     "grade_id": "cell-19bfd7cf4017ed84",
     "locked": true,
     "schema_version": 1,
     "solution": false
    }
   },
   "source": [
    "## Part 2: Variational Auto-Encoder\n",
    "\n",
    "A Variational Auto-Encoder (VAE) is a probabilistic model $p(\\bx, \\bz)$ over observed variables $\\bx$ and latent variables and/or parameters $\\bz$. Here we distinguish the decoder part, $p(\\bx | \\bz) p(\\bz)$ and an encoder part $p(\\bz | \\bx)$ that are both specified with a neural network. A lower bound on the log marginal likelihood $\\log p(\\bx)$ can be obtained by approximately inferring the latent variables z from the observed data x using an encoder distribution $q(\\bz| \\bx)$ that is also specified as a neural network. This lower bound is then optimized to fit the model to the data. \n",
    "\n",
    "The model was introduced by Diederik Kingma (during his PhD at the UVA) and Max Welling in 2013, https://arxiv.org/abs/1312.6114. \n",
    "\n",
    "Since it is such an important model there are plenty of well written tutorials that should help you with the assignment. E.g: https://jaan.io/what-is-variational-autoencoder-vae-tutorial/.\n",
    "\n",
    "In the following, we will make heavily use of the torch module, https://pytorch.org/docs/stable/index.html. Most of the time replacing `np.` with `torch.` will do the trick, e.g. `np.sum` becomes `torch.sum` and `np.log` becomes `torch.log`. In addition, we will use `torch.FloatTensor()` as an equivalent to `np.array()`. In order to train our VAE efficiently we will make use of batching. The number of data points in a batch will become the first dimension of our data tensor, e.g. A batch of 128 MNIST images has the dimensions [128, 1, 28, 28]. To check check the dimensions of a tensor you can call `.size()`."
   ]
  },
  {
   "cell_type": "markdown",
   "metadata": {
    "deletable": false,
    "editable": false,
    "nbgrader": {
     "checksum": "92bd337f41c3f94777f47376c7149ca7",
     "grade": false,
     "grade_id": "cell-bcbe35b20c1007d3",
     "locked": true,
     "schema_version": 1,
     "solution": false
    }
   },
   "source": [
    "### 2.1 Loss function\n",
    "The objective function (variational lower bound), that we will use to train the VAE, consists of two terms: a log Bernoulli loss (reconstruction loss) and a Kullback–Leibler divergence. We implement the two terms separately and combine them in the end.\n",
    "As seen in Part 1: Expectation Maximization, we can use a multivariate Bernoulli distribution to model the likelihood $p(\\bx | \\bz)$ of black and white images. Formally, the variational lower bound is maximized but in PyTorch we are always minimizing therefore we need to calculate the negative log Bernoulli loss and Kullback–Leibler divergence."
   ]
  },
  {
   "cell_type": "markdown",
   "metadata": {
    "deletable": false,
    "editable": false,
    "nbgrader": {
     "checksum": "3fb5f70b132e1233983ef89d19998374",
     "grade": false,
     "grade_id": "cell-389d81024af846e5",
     "locked": true,
     "schema_version": 1,
     "solution": false
    }
   },
   "source": [
    "### 2.1.1 Negative Log Bernoulli loss (5 points)\n",
    "The negative log Bernoulli loss is defined as,\n",
    "\n",
    "\\begin{align}\n",
    "loss = - (\\sum_i^D \\bx_i \\log \\hat{\\bx_i} + (1 − \\bx_i) \\log(1 − \\hat{\\bx_i})).\n",
    "\\end{align}\n",
    "\n",
    "Write a function `log_bernoulli_loss` that takes a D dimensional vector `x`, its reconstruction `x_hat` and returns the negative log Bernoulli loss. Make sure that your function works for batches of arbitrary size."
   ]
  },
  {
   "cell_type": "code",
   "execution_count": 16,
   "metadata": {
    "deletable": false,
    "nbgrader": {
     "checksum": "952435ca03f47ab67a7e88b8306fc9a0",
     "grade": false,
     "grade_id": "cell-1d504606d6f99145",
     "locked": false,
     "schema_version": 1,
     "solution": true
    }
   },
   "outputs": [],
   "source": [
    "def log_bernoulli_loss(x_hat, x):\n",
    "    stability_factor = 1e-15\n",
    "    \n",
    "    log_x_hat = torch.log(x_hat + stability_factor)\n",
    "    log_one_minus_x_hat = torch.log(1. - x_hat + stability_factor)\n",
    "    log_x_hats = torch.cat((log_x_hat, log_one_minus_x_hat), dim=1)\n",
    "    \n",
    "    xs = torch.cat((x, 1. - x), dim=1)\n",
    "    \n",
    "    return -(torch.mul(xs, log_x_hats).sum().sum())/x.shape[0]"
   ]
  },
  {
   "cell_type": "code",
   "execution_count": 17,
   "metadata": {
    "deletable": false,
    "editable": false,
    "nbgrader": {
     "checksum": "bd2a490aa694507bd032e86d77fc0087",
     "grade": true,
     "grade_id": "cell-9666dad0b2a9f483",
     "locked": true,
     "points": 5,
     "schema_version": 1,
     "solution": false
    }
   },
   "outputs": [],
   "source": [
    "### Test test test\n",
    "x_test = torch.FloatTensor([[0.1, 0.2, 0.3, 0.4], [0.5, 0.6, 0.7, 0.8], [0.9, 0.9, 0.9, 0.9]])\n",
    "x_hat_test = torch.FloatTensor([[0.11, 0.22, 0.33, 0.44], [0.55, 0.66, 0.77, 0.88], [0.99, 0.99, 0.99, 0.99]])\n",
    "\n",
    "assert log_bernoulli_loss(x_hat_test, x_test) > 0.0\n",
    "assert log_bernoulli_loss(x_hat_test, x_test) < 10.0\n"
   ]
  },
  {
   "cell_type": "markdown",
   "metadata": {
    "deletable": false,
    "editable": false,
    "nbgrader": {
     "checksum": "6b75b7a531ecc87bce57925c4da464ee",
     "grade": false,
     "grade_id": "cell-b3a7c02dee7aa505",
     "locked": true,
     "schema_version": 1,
     "solution": false
    }
   },
   "source": [
    "### 2.1.2 Negative Kullback–Leibler divergence (10 Points)\n",
    "The variational lower bound (the objective to be maximized) contains a KL term $D_{KL}(q(\\bz)||p(\\bz))$ that can often be calculated analytically. In the VAE we assume $q = N(\\bz, \\mu, \\sigma^2I)$ and $p = N(\\bz, 0, I)$. Solve analytically!"
   ]
  },
  {
   "cell_type": "markdown",
   "metadata": {
    "deletable": false,
    "nbgrader": {
     "checksum": "d01a7e7fe2dcf5f1c5fb955b85c8a04a",
     "grade": true,
     "grade_id": "cell-4cab10fd1a636858",
     "locked": false,
     "points": 5,
     "schema_version": 1,
     "solution": true
    }
   },
   "source": [
    "----------------------------\n",
    "From HW2 problem 3 we know the KL between 2 multivariate Gaussians is of the form (where J represents the dimensionality):\n",
    "\n",
    "\\begin{equation}\n",
    "\\text{KL}\\left(\\mathcal{N}\\left(\\vec{z}\\ |\\ \\vec{\\mu}, \\boldsymbol{\\Sigma}\\right)\\  ||\\  \\mathcal{N}\\left(\\vec{z}\\ |\\ \\vec{m}, \\boldsymbol{L}\\right) \\right) = \\frac{1}{2} \\left(\\log \\left(\\frac{|\\boldsymbol{L}|}{|\\boldsymbol{\\Sigma}|}\\right) - J + \\text{tr}\\left(\\boldsymbol{L}^{-1}\\boldsymbol{\\Sigma}\\right) + \\left(\\vec{\\mu} - \\vec{m}\\right)^T\\boldsymbol{L}^{-1}\\left(\\vec{\\mu} - \\vec{m}\\right)\\right)\n",
    "\\end{equation}\n",
    "\n",
    "Since $\\vec{m} = \\vec{0}$, $\\boldsymbol{L} = \\boldsymbol{I}$ and $\\boldsymbol{\\Sigma} = \\sigma^2\\boldsymbol{I}$, we can simplify some of the terms:\n",
    "\n",
    "$|\\boldsymbol{L}| = 1^J = 1$, $|\\boldsymbol{\\Sigma}| = \\sigma^{2J} \\Rightarrow \\log \\left(\\frac{|\\boldsymbol{L}|}{|\\boldsymbol{\\Sigma}|}\\right) = -J\\log\\left(\\sigma^2\\right)$\n",
    "\n",
    "$\\boldsymbol{L}^{-1} = \\boldsymbol{I} \\Rightarrow \\boldsymbol{L}^{-1}\\boldsymbol{\\Sigma} = \\boldsymbol{\\Sigma} \\Rightarrow \\text{tr}\\left(\\boldsymbol{L}^{-1}\\boldsymbol{\\Sigma}\\right) = \\text{tr}\\left(\\boldsymbol{\\Sigma}\\right) = J\\sigma^2$\n",
    "\n",
    "$\\left(\\vec{\\mu} - \\vec{m}\\right)^T\\boldsymbol{L}^{-1}\\left(\\vec{\\mu} - \\vec{m}\\right) = \\vec{\\mu}^T\\boldsymbol{I}\\vec{\\mu} = \\vec{\\mu}^T\\vec{\\mu}$\n",
    "\n",
    "\n",
    "And so:\n",
    "\n",
    "\\begin{equation}\n",
    "\\text{KL}\\left(\\mathcal{N}\\left(\\vec{z}\\ |\\ \\vec{\\mu}, \\sigma^2\\boldsymbol{I}\\right)\\  ||\\  \\mathcal{N}\\left(\\vec{z}\\ |\\ \\vec{0}, \\boldsymbol{I}\\right) \\right) = \\frac{1}{2} \\left(-J\\log\\left(\\sigma^2\\right) - J + J\\sigma^2 + \\vec{\\mu}^T\\vec{\\mu}\\right) = \\frac{1}{2} \\left(J\\left(-\\log\\left(\\sigma^2\\right) - 1 + \\sigma^2\\right) + \\vec{\\mu}^T\\vec{\\mu}\\right)\n",
    "\\end{equation}\n",
    "\n",
    "\n",
    "## HOWEVER,\n",
    "it seems that what we are actually computing (using the parameters estimated by the encoder), in the following exercises is not $\\mathcal{N}\\left(\\vec{z}\\ |\\ \\vec{\\mu}, \\sigma^2\\boldsymbol{I}\\right)$, but instead $\\mathcal{N}\\left(\\vec{z}\\ |\\ \\vec{\\mu}, \\text{diag}\\left(\\vec{\\sigma^2}\\right)\\right)$ and, so:\n",
    "\n",
    "$|\\boldsymbol{L}| = 1^J = 1$, $\\displaystyle{|\\boldsymbol{\\Sigma}| = \\prod_{i=1}^J \\sigma_i^2 \\Rightarrow \\log \\left(\\frac{|\\boldsymbol{L}|}{|\\boldsymbol{\\Sigma}|}\\right) = -\\sum_{i=1}^J\\log\\left(\\sigma_i^2\\right)}$\n",
    "\n",
    "$\\displaystyle{\\boldsymbol{L}^{-1} = \\boldsymbol{I} \\Rightarrow \\boldsymbol{L}^{-1}\\boldsymbol{\\Sigma} = \\boldsymbol{\\Sigma} \\Rightarrow \\text{tr}\\left(\\boldsymbol{L}^{-1}\\boldsymbol{\\Sigma}\\right) = \\text{tr}\\left(\\boldsymbol{\\Sigma}\\right) = \\sum_{i=1}^J\\sigma_i^2}$\n",
    "\n",
    "Which gives:\n",
    "\n",
    "\\begin{equation}\n",
    "\\text{KL}\\left(\\mathcal{N}\\left(\\vec{z}\\ |\\ \\vec{\\mu}, \\text{diag}\\left(\\vec{\\sigma^2}\\right)\\right)\\  ||\\  \\mathcal{N}\\left(\\vec{z}\\ |\\ \\vec{0}, \\boldsymbol{I}\\right) \\right) = \\frac{1}{2} \\left(-\\sum_{i=1}^J\\log\\left(\\sigma_i^2\\right) - J + \\sum_{i=1}^J\\sigma_i^2 + \\vec{\\mu}^T\\vec{\\mu}\\right)\n",
    "\\end{equation}"
   ]
  },
  {
   "cell_type": "markdown",
   "metadata": {
    "deletable": false,
    "editable": false,
    "nbgrader": {
     "checksum": "328115c94a66e8aba0a62896e647c3ba",
     "grade": false,
     "grade_id": "cell-c49899cbf2a49362",
     "locked": true,
     "schema_version": 1,
     "solution": false
    }
   },
   "source": [
    "Write a function `KL_loss` that takes two J dimensional vectors `mu` and `logvar` and returns the negative Kullback–Leibler divergence. Where `logvar` is $\\log(\\sigma^2)$. Make sure that your function works for batches of arbitrary size."
   ]
  },
  {
   "cell_type": "code",
   "execution_count": 24,
   "metadata": {
    "deletable": false,
    "nbgrader": {
     "checksum": "33b14b79372dd0235d67bb66921cd3e0",
     "grade": false,
     "grade_id": "cell-125b41878005206b",
     "locked": false,
     "schema_version": 1,
     "solution": true
    }
   },
   "outputs": [],
   "source": [
    "def KL_loss(mu, logvar):\n",
    "    # mu, logvar --> [B_size x J]\n",
    "    B_size = mu.shape[0]\n",
    "    \n",
    "    # Log determinant. In: [B_size x J], out: [B_size]\n",
    "    log_det = torch.sum(logvar, dim=1)\n",
    "    \n",
    "    # J\n",
    "    J = mu.shape[1]\n",
    "    \n",
    "    # Trace. In: [B_size x J], out: [B_size]\n",
    "    trace = torch.sum(torch.exp(logvar), dim=1)\n",
    "    \n",
    "    # Means inner product with respect to Sigma_2. In: [B_size x J], out: [B_size]\n",
    "    ips2 = torch.mul(mu, mu).sum(dim=1)\n",
    "\n",
    "    # Compute rest of the KL instance wise, sum over all instances and immediately average for loss\n",
    "    return 0.5 * (-log_det - J + trace + ips2).sum()/B_size"
   ]
  },
  {
   "cell_type": "code",
   "execution_count": 25,
   "metadata": {
    "deletable": false,
    "editable": false,
    "nbgrader": {
     "checksum": "cf72e196d2b60827e8e940681ac50a07",
     "grade": true,
     "grade_id": "cell-ba714bbe270a3f39",
     "locked": true,
     "points": 5,
     "schema_version": 1,
     "solution": false
    }
   },
   "outputs": [],
   "source": [
    "### Test test test\n",
    "mu_test = torch.FloatTensor([[0.1, 0.2], [0.3, 0.4], [0.5, 0.6]])\n",
    "logvar_test = torch.FloatTensor([[0.01, 0.02], [0.03, 0.04], [0.05, 0.06]])\n",
    "\n",
    "assert KL_loss(mu_test, logvar_test) > 0.0\n",
    "assert KL_loss(mu_test, logvar_test) < 10.0\n"
   ]
  },
  {
   "cell_type": "markdown",
   "metadata": {
    "deletable": false,
    "editable": false,
    "nbgrader": {
     "checksum": "65335a588baac26bc48dd6c4d275fdca",
     "grade": false,
     "grade_id": "cell-18cb3f8031edec23",
     "locked": true,
     "schema_version": 1,
     "solution": false
    }
   },
   "source": [
    "### 2.1.3 Putting the losses together (5 points)\n",
    "Write a function `loss_function` that takes a D dimensional vector `x`, its reconstruction `x_hat`, two J dimensional vectors `mu` and `logvar` and returns the final loss. Make sure that your function works for batches of arbitrary size."
   ]
  },
  {
   "cell_type": "code",
   "execution_count": 26,
   "metadata": {
    "deletable": false,
    "nbgrader": {
     "checksum": "f6ecb5b60b2c8d7b90070ed59320ee70",
     "grade": false,
     "grade_id": "cell-d2d18781683f1302",
     "locked": false,
     "schema_version": 1,
     "solution": true
    }
   },
   "outputs": [],
   "source": [
    "def loss_function(x_hat, x, mu, logvar):\n",
    "    return KL_loss(mu, logvar) + log_bernoulli_loss(x_hat, x)\n"
   ]
  },
  {
   "cell_type": "code",
   "execution_count": 27,
   "metadata": {
    "deletable": false,
    "editable": false,
    "nbgrader": {
     "checksum": "816e9508408bfcb2c7332b508d505081",
     "grade": true,
     "grade_id": "cell-57747988d29bbb5d",
     "locked": true,
     "points": 5,
     "schema_version": 1,
     "solution": false
    }
   },
   "outputs": [],
   "source": [
    "x_test = torch.FloatTensor([[0.1, 0.2, 0.3], [0.4, 0.5, 0.6], [0.7, 0.8, 0.9]])\n",
    "x_hat_test = torch.FloatTensor([[0.11, 0.22, 0.33], [0.44, 0.55, 0.66], [0.77, 0.88, 0.99]])\n",
    "mu_test = torch.FloatTensor([[0.1, 0.2], [0.3, 0.4], [0.5, 0.6]])\n",
    "logvar_test = torch.FloatTensor([[0.01, 0.02], [0.03, 0.04], [0.05, 0.06]])\n",
    "\n",
    "assert loss_function(x_hat_test, x_test, mu_test, logvar_test) > 0.0\n",
    "assert loss_function(x_hat_test, x_test, mu_test, logvar_test) < 10.0\n"
   ]
  },
  {
   "cell_type": "markdown",
   "metadata": {
    "deletable": false,
    "editable": false,
    "nbgrader": {
     "checksum": "4506e06ed44a0535140582277a528ba4",
     "grade": false,
     "grade_id": "cell-9e3ba708967fe918",
     "locked": true,
     "schema_version": 1,
     "solution": false
    }
   },
   "source": [
    "### 2.2 The model\n",
    "Below you see a data structure for the VAE. The modell itself consists of two main parts the encoder (images $\\bx$ to latent variables $\\bz$) and the decoder (latent variables $\\bz$ to images $\\bx$). The encoder is using 3 fully-connected layers, whereas the decoder is using fully-connected layers. Right now the data structure is quite empty, step by step will update its functionality. For test purposes we will initialize a VAE for you. After the data structure is completed you will do the hyperparameter search.\n"
   ]
  },
  {
   "cell_type": "code",
   "execution_count": 28,
   "metadata": {
    "deletable": false,
    "editable": false,
    "nbgrader": {
     "checksum": "31eccf2f6600764e28eb4bc6c5634e49",
     "grade": false,
     "grade_id": "cell-e7d9dafee18f28a1",
     "locked": true,
     "schema_version": 1,
     "solution": false
    }
   },
   "outputs": [],
   "source": [
    "from torch import nn\n",
    "from torch.nn import functional as F \n",
    "\n",
    "class VAE(nn.Module):\n",
    "    def __init__(self, fc1_dims, fc21_dims, fc22_dims, fc3_dims, fc4_dims):\n",
    "        super(VAE, self).__init__()\n",
    "\n",
    "        self.fc1 = nn.Linear(*fc1_dims)\n",
    "        self.fc21 = nn.Linear(*fc21_dims)\n",
    "        self.fc22 = nn.Linear(*fc22_dims)\n",
    "        self.fc3 = nn.Linear(*fc3_dims)\n",
    "        self.fc4 = nn.Linear(*fc4_dims)\n",
    "\n",
    "    def encode(self, x):\n",
    "        # To be implemented\n",
    "        raise Exception('Method not implemented')\n",
    "\n",
    "    def reparameterize(self, mu, logvar):\n",
    "        # To be implemented\n",
    "        raise Exception('Method not implemented')\n",
    "\n",
    "    def decode(self, z):\n",
    "        # To be implemented\n",
    "        raise Exception('Method not implemented')\n",
    "\n",
    "    def forward(self, x):\n",
    "        # To be implemented\n",
    "        raise Exception('Method not implemented')\n",
    "\n",
    "VAE_test = VAE(fc1_dims=(784, 4), fc21_dims=(4, 2), fc22_dims=(4, 2), fc3_dims=(2, 4), fc4_dims=(4, 784))\n"
   ]
  },
  {
   "cell_type": "markdown",
   "metadata": {
    "deletable": false,
    "editable": false,
    "nbgrader": {
     "checksum": "1a2243397998b4f55c25dfd734f3e7e0",
     "grade": false,
     "grade_id": "cell-c4f9e841b8972a43",
     "locked": true,
     "schema_version": 1,
     "solution": false
    }
   },
   "source": [
    "### 2.3 Encoding (10 points)\n",
    "Write a function `encode` that gets a vector `x` with 784 elements (flattened MNIST image) and returns `mu` and `logvar`. Your function should use three fully-connected layers (`self.fc1()`, `self.fc21()`, `self.fc22()`). First, you should use `self.fc1()` to embed `x`. Second, you should use `self.fc21()` and `self.fc22()` on the embedding of `x` to compute `mu` and `logvar` respectively. PyTorch comes with a variety of activation functions, the most common calls are `F.relu()`, `F.sigmoid()`, `F.tanh()`. Make sure that your function works for batches of arbitrary size.  "
   ]
  },
  {
   "cell_type": "code",
   "execution_count": 29,
   "metadata": {
    "deletable": false,
    "nbgrader": {
     "checksum": "628bcd88c611cf01e70f77854600199b",
     "grade": false,
     "grade_id": "cell-93cb75b98ae76569",
     "locked": false,
     "schema_version": 1,
     "solution": true
    }
   },
   "outputs": [],
   "source": [
    "def encode(self, x):\n",
    "    \n",
    "    enc_x = F.relu(self.fc1(x))\n",
    "    mu = self.fc21(enc_x)\n",
    "    logvar = self.fc22(enc_x)\n",
    "    \n",
    "    return mu, logvar"
   ]
  },
  {
   "cell_type": "code",
   "execution_count": 30,
   "metadata": {
    "deletable": false,
    "editable": false,
    "nbgrader": {
     "checksum": "370d930fa9f10f1d3a451f3805c04d88",
     "grade": true,
     "grade_id": "cell-9648960b73337a70",
     "locked": true,
     "points": 10,
     "schema_version": 1,
     "solution": false
    }
   },
   "outputs": [],
   "source": [
    "### Test, test, test\n",
    "VAE.encode = encode\n",
    "\n",
    "x_test = torch.ones((5,784))\n",
    "mu_test, logvar_test = VAE_test.encode(x_test)\n",
    "\n",
    "assert np.allclose(mu_test.size(), [5, 2])\n",
    "assert np.allclose(logvar_test.size(), [5, 2])\n"
   ]
  },
  {
   "cell_type": "markdown",
   "metadata": {
    "deletable": false,
    "editable": false,
    "nbgrader": {
     "checksum": "6f597cc2b5ef941af282d7162297f865",
     "grade": false,
     "grade_id": "cell-581b4ed1996be868",
     "locked": true,
     "schema_version": 1,
     "solution": false
    }
   },
   "source": [
    "### 2.4 Reparameterization (10 points)\n",
    "One of the major question that the VAE is answering, is 'how to take derivatives with respect to the parameters of a stochastic variable?', i.e. if we are given $\\bz$ that is drawn from a distribution $q(\\bz|\\bx)$, and we want to take derivatives. This step is necessary to be able to use gradient-based optimization algorithms like SGD.\n",
    "For some distributions, it is possible to reparameterize samples in a clever way, such that the stochasticity is independent of the parameters. We want our samples to deterministically depend on the parameters of the distribution. For example, in a normally-distributed variable with mean $\\mu$ and standard deviation $\\sigma$, we can sample from it like this:\n",
    "\n",
    "\\begin{align}\n",
    "\\bz = \\mu + \\sigma \\odot \\epsilon,\n",
    "\\end{align}\n",
    "\n",
    "where $\\odot$ is the element-wise multiplication and $\\epsilon$ is sampled from $N(0, I)$.\n",
    "\n",
    "\n",
    "Write a function `reparameterize` that takes two J dimensional vectors `mu` and `logvar`. It should return $\\bz = \\mu + \\sigma \\odot \\epsilon$.\n"
   ]
  },
  {
   "cell_type": "code",
   "execution_count": 72,
   "metadata": {
    "deletable": false,
    "nbgrader": {
     "checksum": "6331cb5dd23aaacbcf1a52cfecb1afaa",
     "grade": false,
     "grade_id": "cell-679aea8b2adf7ec4",
     "locked": false,
     "schema_version": 1,
     "solution": true
    }
   },
   "outputs": [],
   "source": [
    "def reparameterize(self, mu, logvar):\n",
    "    normal = torch.distributions.Normal(torch.tensor([0.0]), torch.tensor([1.0]))\n",
    "    return mu + torch.sqrt(torch.exp(logvar)) * normal.rsample(sample_shape=mu.shape).squeeze(-1)"
   ]
  },
  {
   "cell_type": "code",
   "execution_count": 58,
   "metadata": {
    "deletable": false,
    "editable": false,
    "nbgrader": {
     "checksum": "38d4e047717ab334b262c8c177f0a420",
     "grade": true,
     "grade_id": "cell-fdd7b27a3d17f84e",
     "locked": true,
     "points": 10,
     "schema_version": 1,
     "solution": false
    }
   },
   "outputs": [],
   "source": [
    "### Test, test, test\n",
    "VAE.reparameterize = reparameterize\n",
    "VAE_test.train()\n",
    "\n",
    "mu_test = torch.FloatTensor([[0.1, 0.2], [0.3, 0.4], [0.5, 0.6]])\n",
    "logvar_test = torch.FloatTensor([[0.01, 0.02], [0.03, 0.04], [0.05, 0.06]])\n",
    "\n",
    "z_test = VAE_test.reparameterize(mu_test, logvar_test)\n",
    "\n",
    "assert np.allclose(z_test.size(), [3, 2])\n",
    "assert z_test[0][0] < 5.0\n",
    "assert z_test[0][0] > -5.0\n"
   ]
  },
  {
   "cell_type": "markdown",
   "metadata": {
    "deletable": false,
    "editable": false,
    "nbgrader": {
     "checksum": "9241ab0eaf8366c37ad57072ce66f095",
     "grade": false,
     "grade_id": "cell-0be851f9f7f0a93e",
     "locked": true,
     "schema_version": 1,
     "solution": false
    }
   },
   "source": [
    "### 2.5 Decoding (10 points)\n",
    "Write a function `decode` that gets a vector `z` with J elements and returns a vector `x_hat` with 784 elements (flattened MNIST image). Your function should use two fully-connected layers (`self.fc3()`, `self.fc4()`). PyTorch comes with a variety of activation functions, the most common calls are `F.relu()`, `F.sigmoid()`, `F.tanh()`. Make sure that your function works for batches of arbitrary size."
   ]
  },
  {
   "cell_type": "code",
   "execution_count": 60,
   "metadata": {
    "deletable": false,
    "nbgrader": {
     "checksum": "e8e833cfd7c54a9b67a38056d5d6cab8",
     "grade": false,
     "grade_id": "cell-bf92bb3878275a41",
     "locked": false,
     "schema_version": 1,
     "solution": true
    }
   },
   "outputs": [],
   "source": [
    "def decode(self, z):\n",
    "    layer1 = F.relu(self.fc3(z))\n",
    "    return F.sigmoid(self.fc4(layer1))"
   ]
  },
  {
   "cell_type": "code",
   "execution_count": 61,
   "metadata": {
    "deletable": false,
    "editable": false,
    "nbgrader": {
     "checksum": "7732293fd7d971fcf255496e8c68638d",
     "grade": true,
     "grade_id": "cell-4abb91cb9e80af5d",
     "locked": true,
     "points": 10,
     "schema_version": 1,
     "solution": false
    }
   },
   "outputs": [],
   "source": [
    "# test test test\n",
    "VAE.decode = decode\n",
    "\n",
    "z_test = torch.ones((5,2))\n",
    "x_hat_test = VAE_test.decode(z_test)\n",
    "\n",
    "assert np.allclose(x_hat_test.size(), [5, 784])\n",
    "assert (x_hat_test <= 1).all()\n",
    "assert (x_hat_test >= 0).all()\n"
   ]
  },
  {
   "cell_type": "markdown",
   "metadata": {
    "deletable": false,
    "editable": false,
    "nbgrader": {
     "checksum": "e2e113d1f45398b2a1399c336526e755",
     "grade": false,
     "grade_id": "cell-97511fbc4f5b469b",
     "locked": true,
     "schema_version": 1,
     "solution": false
    }
   },
   "source": [
    "### 2.6 Forward pass (10)\n",
    "To complete the data structure you have to define a forward pass through the VAE. A single forward pass consists of the encoding of an MNIST image $\\bx$ into latent space $\\bz$, the reparameterization of $\\bz$ and the decoding of $\\bz$ into an image $\\bx$.\n",
    "\n",
    "Write a function `forward` that gets a a vector `x` with 784 elements (flattened MNIST image) and returns a vector `x_hat` with 784 elements (flattened MNIST image), `mu` and `logvar`."
   ]
  },
  {
   "cell_type": "code",
   "execution_count": 62,
   "metadata": {
    "deletable": false,
    "nbgrader": {
     "checksum": "8b7433c4631dd01c07a5fe287e55ae13",
     "grade": false,
     "grade_id": "cell-26bb463b9f98ebd5",
     "locked": false,
     "schema_version": 1,
     "solution": true
    }
   },
   "outputs": [],
   "source": [
    "def forward(self, x):\n",
    "    x = x.view(-1, 784)\n",
    "    mu, logvar = encode(self, x)\n",
    "    z = reparameterize(self, mu, logvar)\n",
    "    x_hat = decode(self, z)\n",
    "    return x_hat, mu, logvar\n"
   ]
  },
  {
   "cell_type": "code",
   "execution_count": 73,
   "metadata": {
    "deletable": false,
    "editable": false,
    "nbgrader": {
     "checksum": "8e7e495f40465c162512e9873c360b25",
     "grade": true,
     "grade_id": "cell-347e5fba3d02754b",
     "locked": true,
     "points": 10,
     "schema_version": 1,
     "solution": false
    }
   },
   "outputs": [],
   "source": [
    "# test test test \n",
    "VAE.forward = forward\n",
    "\n",
    "x_test = torch.ones((5,784))\n",
    "x_hat_test, mu_test, logvar_test = VAE_test.forward(x_test)\n",
    "\n",
    "assert np.allclose(x_hat_test.size(), [5, 784])\n",
    "assert np.allclose(mu_test.size(), [5, 2])\n",
    "assert np.allclose(logvar_test.size(), [5, 2])\n"
   ]
  },
  {
   "cell_type": "markdown",
   "metadata": {
    "deletable": false,
    "editable": false,
    "nbgrader": {
     "checksum": "a114a6fd781fb949b887e6a028e07946",
     "grade": false,
     "grade_id": "cell-62c89e4d3b253671",
     "locked": true,
     "schema_version": 1,
     "solution": false
    }
   },
   "source": [
    "### 2.7 Training (15)\n",
    "We will now train the VAE using an optimizer called Adam, https://arxiv.org/abs/1412.6980. The code to train a model in PyTorch is given below."
   ]
  },
  {
   "cell_type": "code",
   "execution_count": 74,
   "metadata": {
    "deletable": false,
    "editable": false,
    "nbgrader": {
     "checksum": "f3b6bb965fb48229c63cacda48baea65",
     "grade": false,
     "grade_id": "cell-be75f61b09f3b9b6",
     "locked": true,
     "schema_version": 1,
     "solution": false
    }
   },
   "outputs": [],
   "source": [
    "from torch.autograd import Variable\n",
    "\n",
    "def train(epoch, train_loader, model, optimizer):\n",
    "    model.train()\n",
    "    train_loss = 0\n",
    "    for batch_idx, (data, _) in enumerate(train_loader):\n",
    "        data = Variable(data)\n",
    "        optimizer.zero_grad()\n",
    "        recon_batch, mu, logvar = model(data)\n",
    "        loss = loss_function(recon_batch, data.view(-1, 784), mu, logvar)\n",
    "        loss.backward()\n",
    "        train_loss += loss.data\n",
    "        optimizer.step()\n",
    "        if batch_idx % 100 == 0:\n",
    "            print('Train Epoch: {} [{}/{} ({:.0f}%)]\\tLoss: {:.6f}'.format(\n",
    "                epoch, batch_idx * len(data), len(train_loader.dataset),\n",
    "                100. * batch_idx / len(train_loader),\n",
    "                loss.data / len(data)))\n",
    "\n",
    "    print('====> Epoch: {} Average loss: {:.4f}'.format(\n",
    "          epoch, train_loss / len(train_loader.dataset)))\n"
   ]
  },
  {
   "cell_type": "markdown",
   "metadata": {
    "deletable": false,
    "editable": false,
    "nbgrader": {
     "checksum": "48ca730dbef06a668f4dfdb24888f265",
     "grade": false,
     "grade_id": "cell-da1b063b7de850b9",
     "locked": true,
     "schema_version": 1,
     "solution": false
    }
   },
   "source": [
    "Let's train. You have to choose the hyperparameters. Make sure your loss is going down in a reasonable amount of epochs (around 10)."
   ]
  },
  {
   "cell_type": "code",
   "execution_count": 80,
   "metadata": {
    "deletable": false,
    "nbgrader": {
     "checksum": "846430258fb80f50b161135448726520",
     "grade": false,
     "grade_id": "cell-d4d4408d397f6967",
     "locked": false,
     "schema_version": 1,
     "solution": true
    }
   },
   "outputs": [],
   "source": [
    "# Hyperparameters\n",
    "# fc1_dims = (?,?)\n",
    "# fc21_dims =\n",
    "# fc22_dims =\n",
    "# fc3_dims =\n",
    "# fc4_dims =\n",
    "# lr =\n",
    "# batch_size =\n",
    "# epochs =\n",
    "\n",
    "#Hyperparameters\n",
    "fc1_dims = (784,64)\n",
    "fc21_dims = (64,32)\n",
    "fc22_dims = (64,32)\n",
    "fc3_dims = (32,64)\n",
    "fc4_dims = (64,784)\n",
    "lr = 0.01\n",
    "batch_size = 128\n",
    "epochs = 20"
   ]
  },
  {
   "cell_type": "code",
   "execution_count": null,
   "metadata": {
    "deletable": false,
    "editable": false,
    "nbgrader": {
     "checksum": "b93390f399b743276bc25e67493344f2",
     "grade": true,
     "grade_id": "cell-ca352d8389c1809a",
     "locked": true,
     "points": 15,
     "schema_version": 1,
     "solution": false
    }
   },
   "outputs": [],
   "source": [
    "# This cell contains a hidden test, please don't delete it, thx"
   ]
  },
  {
   "cell_type": "markdown",
   "metadata": {
    "deletable": false,
    "editable": false,
    "nbgrader": {
     "checksum": "20719070ed85964de9722acc3456a515",
     "grade": false,
     "grade_id": "cell-5c77370db7cec9f2",
     "locked": true,
     "schema_version": 1,
     "solution": false
    }
   },
   "source": [
    "Run the box below to train the model using the hyperparameters you entered above."
   ]
  },
  {
   "cell_type": "code",
   "execution_count": 81,
   "metadata": {
    "deletable": false,
    "editable": false,
    "nbgrader": {
     "checksum": "38306be3638e85812bd5b2a052fcc0a4",
     "grade": false,
     "grade_id": "cell-5712d42de1068398",
     "locked": true,
     "schema_version": 1,
     "solution": false
    },
    "scrolled": true
   },
   "outputs": [
    {
     "name": "stdout",
     "output_type": "stream",
     "text": [
      "Train Epoch: 1 [0/60000 (0%)]\tLoss: 4.306179\n",
      "Train Epoch: 1 [12800/60000 (21%)]\tLoss: 1.376018\n",
      "Train Epoch: 1 [25600/60000 (43%)]\tLoss: 1.176386\n",
      "Train Epoch: 1 [38400/60000 (64%)]\tLoss: 1.074010\n",
      "Train Epoch: 1 [51200/60000 (85%)]\tLoss: 1.042932\n",
      "====> Epoch: 1 Average loss: 1.2409\n",
      "Train Epoch: 2 [0/60000 (0%)]\tLoss: 1.018298\n",
      "Train Epoch: 2 [12800/60000 (21%)]\tLoss: 1.046387\n",
      "Train Epoch: 2 [25600/60000 (43%)]\tLoss: 1.018591\n",
      "Train Epoch: 2 [38400/60000 (64%)]\tLoss: 0.970488\n",
      "Train Epoch: 2 [51200/60000 (85%)]\tLoss: 1.041881\n",
      "====> Epoch: 2 Average loss: 1.0083\n",
      "Train Epoch: 3 [0/60000 (0%)]\tLoss: 0.979876\n",
      "Train Epoch: 3 [12800/60000 (21%)]\tLoss: 0.969434\n",
      "Train Epoch: 3 [25600/60000 (43%)]\tLoss: 0.972026\n",
      "Train Epoch: 3 [38400/60000 (64%)]\tLoss: 1.016533\n",
      "Train Epoch: 3 [51200/60000 (85%)]\tLoss: 0.994160\n",
      "====> Epoch: 3 Average loss: 0.9848\n",
      "Train Epoch: 4 [0/60000 (0%)]\tLoss: 1.007499\n",
      "Train Epoch: 4 [12800/60000 (21%)]\tLoss: 0.965255\n",
      "Train Epoch: 4 [25600/60000 (43%)]\tLoss: 0.991769\n",
      "Train Epoch: 4 [38400/60000 (64%)]\tLoss: 0.951556\n",
      "Train Epoch: 4 [51200/60000 (85%)]\tLoss: 0.931297\n",
      "====> Epoch: 4 Average loss: 0.9760\n",
      "Train Epoch: 5 [0/60000 (0%)]\tLoss: 0.962940\n",
      "Train Epoch: 5 [12800/60000 (21%)]\tLoss: 1.025936\n",
      "Train Epoch: 5 [25600/60000 (43%)]\tLoss: 0.974196\n",
      "Train Epoch: 5 [38400/60000 (64%)]\tLoss: 0.980777\n",
      "Train Epoch: 5 [51200/60000 (85%)]\tLoss: 0.949700\n",
      "====> Epoch: 5 Average loss: 0.9698\n",
      "Train Epoch: 6 [0/60000 (0%)]\tLoss: 0.982157\n",
      "Train Epoch: 6 [12800/60000 (21%)]\tLoss: 0.964592\n",
      "Train Epoch: 6 [25600/60000 (43%)]\tLoss: 1.009685\n",
      "Train Epoch: 6 [38400/60000 (64%)]\tLoss: 0.969716\n",
      "Train Epoch: 6 [51200/60000 (85%)]\tLoss: 0.929516\n",
      "====> Epoch: 6 Average loss: 0.9656\n",
      "Train Epoch: 7 [0/60000 (0%)]\tLoss: 0.964642\n",
      "Train Epoch: 7 [12800/60000 (21%)]\tLoss: 0.978167\n",
      "Train Epoch: 7 [25600/60000 (43%)]\tLoss: 0.938879\n",
      "Train Epoch: 7 [38400/60000 (64%)]\tLoss: 0.953256\n",
      "Train Epoch: 7 [51200/60000 (85%)]\tLoss: 0.965975\n",
      "====> Epoch: 7 Average loss: 0.9629\n",
      "Train Epoch: 8 [0/60000 (0%)]\tLoss: 0.983408\n",
      "Train Epoch: 8 [12800/60000 (21%)]\tLoss: 0.967830\n",
      "Train Epoch: 8 [25600/60000 (43%)]\tLoss: 0.971806\n",
      "Train Epoch: 8 [38400/60000 (64%)]\tLoss: 0.973621\n",
      "Train Epoch: 8 [51200/60000 (85%)]\tLoss: 0.954835\n",
      "====> Epoch: 8 Average loss: 0.9613\n",
      "Train Epoch: 9 [0/60000 (0%)]\tLoss: 0.968654\n",
      "Train Epoch: 9 [12800/60000 (21%)]\tLoss: 0.947602\n",
      "Train Epoch: 9 [25600/60000 (43%)]\tLoss: 0.968436\n",
      "Train Epoch: 9 [38400/60000 (64%)]\tLoss: 0.976887\n",
      "Train Epoch: 9 [51200/60000 (85%)]\tLoss: 0.957477\n",
      "====> Epoch: 9 Average loss: 0.9593\n",
      "Train Epoch: 10 [0/60000 (0%)]\tLoss: 0.960593\n",
      "Train Epoch: 10 [12800/60000 (21%)]\tLoss: 0.937439\n",
      "Train Epoch: 10 [25600/60000 (43%)]\tLoss: 0.953572\n",
      "Train Epoch: 10 [38400/60000 (64%)]\tLoss: 0.941923\n",
      "Train Epoch: 10 [51200/60000 (85%)]\tLoss: 0.954563\n",
      "====> Epoch: 10 Average loss: 0.9584\n",
      "Train Epoch: 11 [0/60000 (0%)]\tLoss: 0.998825\n",
      "Train Epoch: 11 [12800/60000 (21%)]\tLoss: 1.000855\n",
      "Train Epoch: 11 [25600/60000 (43%)]\tLoss: 0.964947\n",
      "Train Epoch: 11 [38400/60000 (64%)]\tLoss: 0.947468\n",
      "Train Epoch: 11 [51200/60000 (85%)]\tLoss: 0.962003\n",
      "====> Epoch: 11 Average loss: 0.9580\n",
      "Train Epoch: 12 [0/60000 (0%)]\tLoss: 0.966251\n",
      "Train Epoch: 12 [12800/60000 (21%)]\tLoss: 0.954313\n",
      "Train Epoch: 12 [25600/60000 (43%)]\tLoss: 0.926879\n",
      "Train Epoch: 12 [38400/60000 (64%)]\tLoss: 0.958787\n",
      "Train Epoch: 12 [51200/60000 (85%)]\tLoss: 0.959942\n",
      "====> Epoch: 12 Average loss: 0.9555\n",
      "Train Epoch: 13 [0/60000 (0%)]\tLoss: 0.966463\n",
      "Train Epoch: 13 [12800/60000 (21%)]\tLoss: 0.963208\n",
      "Train Epoch: 13 [25600/60000 (43%)]\tLoss: 0.932839\n",
      "Train Epoch: 13 [38400/60000 (64%)]\tLoss: 0.959145\n",
      "Train Epoch: 13 [51200/60000 (85%)]\tLoss: 0.946339\n",
      "====> Epoch: 13 Average loss: 0.9554\n",
      "Train Epoch: 14 [0/60000 (0%)]\tLoss: 0.969497\n",
      "Train Epoch: 14 [12800/60000 (21%)]\tLoss: 0.999315\n",
      "Train Epoch: 14 [25600/60000 (43%)]\tLoss: 0.962413\n",
      "Train Epoch: 14 [38400/60000 (64%)]\tLoss: 0.979389\n",
      "Train Epoch: 14 [51200/60000 (85%)]\tLoss: 0.979358\n",
      "====> Epoch: 14 Average loss: 0.9536\n",
      "Train Epoch: 15 [0/60000 (0%)]\tLoss: 0.952624\n",
      "Train Epoch: 15 [12800/60000 (21%)]\tLoss: 0.964647\n",
      "Train Epoch: 15 [25600/60000 (43%)]\tLoss: 0.978043\n",
      "Train Epoch: 15 [38400/60000 (64%)]\tLoss: 0.998545\n",
      "Train Epoch: 15 [51200/60000 (85%)]\tLoss: 1.003529\n",
      "====> Epoch: 15 Average loss: 0.9533\n",
      "Train Epoch: 16 [0/60000 (0%)]\tLoss: 0.977897\n",
      "Train Epoch: 16 [12800/60000 (21%)]\tLoss: 0.961520\n",
      "Train Epoch: 16 [25600/60000 (43%)]\tLoss: 0.968235\n",
      "Train Epoch: 16 [38400/60000 (64%)]\tLoss: 0.935715\n",
      "Train Epoch: 16 [51200/60000 (85%)]\tLoss: 0.953713\n",
      "====> Epoch: 16 Average loss: 0.9513\n",
      "Train Epoch: 17 [0/60000 (0%)]\tLoss: 0.982882\n",
      "Train Epoch: 17 [12800/60000 (21%)]\tLoss: 0.958829\n",
      "Train Epoch: 17 [25600/60000 (43%)]\tLoss: 0.958362\n",
      "Train Epoch: 17 [38400/60000 (64%)]\tLoss: 0.944996\n",
      "Train Epoch: 17 [51200/60000 (85%)]\tLoss: 0.943315\n",
      "====> Epoch: 17 Average loss: 0.9511\n",
      "Train Epoch: 18 [0/60000 (0%)]\tLoss: 0.981866\n",
      "Train Epoch: 18 [12800/60000 (21%)]\tLoss: 0.960768\n",
      "Train Epoch: 18 [25600/60000 (43%)]\tLoss: 0.988789\n",
      "Train Epoch: 18 [38400/60000 (64%)]\tLoss: 0.946110\n",
      "Train Epoch: 18 [51200/60000 (85%)]\tLoss: 0.938871\n",
      "====> Epoch: 18 Average loss: 0.9511\n",
      "Train Epoch: 19 [0/60000 (0%)]\tLoss: 0.931132\n",
      "Train Epoch: 19 [12800/60000 (21%)]\tLoss: 0.952291\n",
      "Train Epoch: 19 [25600/60000 (43%)]\tLoss: 0.933271\n",
      "Train Epoch: 19 [38400/60000 (64%)]\tLoss: 0.953609\n",
      "Train Epoch: 19 [51200/60000 (85%)]\tLoss: 0.948626\n",
      "====> Epoch: 19 Average loss: 0.9503\n",
      "Train Epoch: 20 [0/60000 (0%)]\tLoss: 0.935513\n",
      "Train Epoch: 20 [12800/60000 (21%)]\tLoss: 0.961732\n",
      "Train Epoch: 20 [25600/60000 (43%)]\tLoss: 0.953912\n",
      "Train Epoch: 20 [38400/60000 (64%)]\tLoss: 0.976003\n",
      "Train Epoch: 20 [51200/60000 (85%)]\tLoss: 0.971754\n",
      "====> Epoch: 20 Average loss: 0.9498\n"
     ]
    }
   ],
   "source": [
    "from torchvision import datasets, transforms\n",
    "from torch import nn, optim\n",
    "\n",
    "# Load data\n",
    "train_data = datasets.MNIST('../data', train=True, download=True,\n",
    "                   transform=transforms.ToTensor())\n",
    "\n",
    "train_loader = torch.utils.data.DataLoader(train_data,\n",
    "                                           batch_size=batch_size, shuffle=True, **{})\n",
    "\n",
    "# Init model\n",
    "VAE_MNIST = VAE(fc1_dims=fc1_dims, fc21_dims=fc21_dims, fc22_dims=fc22_dims, fc3_dims=fc3_dims, fc4_dims=fc4_dims)\n",
    "\n",
    "# Init optimizer\n",
    "optimizer = optim.Adam(VAE_MNIST.parameters(), lr=lr)\n",
    "\n",
    "# Train\n",
    "for epoch in range(1, epochs + 1):\n",
    "    train(epoch, train_loader, VAE_MNIST, optimizer)\n"
   ]
  },
  {
   "cell_type": "markdown",
   "metadata": {
    "deletable": false,
    "editable": false,
    "nbgrader": {
     "checksum": "e2f8fcc9384e30cb154cf931f223898b",
     "grade": false,
     "grade_id": "cell-bd07c058c661b9c6",
     "locked": true,
     "schema_version": 1,
     "solution": false
    }
   },
   "source": [
    "Run the box below to check if the model you trained above is able to correctly reconstruct images."
   ]
  },
  {
   "cell_type": "code",
   "execution_count": 82,
   "metadata": {
    "deletable": false,
    "editable": false,
    "nbgrader": {
     "checksum": "80d198e03b1287741d761a12e38dcf73",
     "grade": false,
     "grade_id": "cell-df03d717307a6863",
     "locked": true,
     "schema_version": 1,
     "solution": false
    }
   },
   "outputs": [
    {
     "data": {
      "image/png": "[encoded data removed]",
      "text/plain": [
       "<Figure size 432x288 with 1 Axes>"
      ]
     },
     "metadata": {},
     "output_type": "display_data"
    },
    {
     "data": {
      "image/png": "[encoded data removed]",
      "text/plain": [
       "<Figure size 432x288 with 1 Axes>"
      ]
     },
     "metadata": {},
     "output_type": "display_data"
    },
    {
     "data": {
      "image/png": "[encoded data removed]",
      "text/plain": [
       "<Figure size 432x288 with 1 Axes>"
      ]
     },
     "metadata": {},
     "output_type": "display_data"
    },
    {
     "data": {
      "image/png": "[encoded data removed]",
      "text/plain": [
       "<Figure size 432x288 with 1 Axes>"
      ]
     },
     "metadata": {},
     "output_type": "display_data"
    }
   ],
   "source": [
    "### Let's check if the reconstructions make sense\n",
    "# Set model to test mode\n",
    "VAE_MNIST.eval()\n",
    "    \n",
    "# Reconstructed\n",
    "train_data_plot = datasets.MNIST('../data', train=True, download=True,\n",
    "                   transform=transforms.ToTensor())\n",
    "\n",
    "train_loader_plot = torch.utils.data.DataLoader(train_data_plot,\n",
    "                                           batch_size=1, shuffle=False, **{})\n",
    "\n",
    "for batch_idx, (data, _) in enumerate(train_loader_plot):\n",
    "    x_hat, mu, logvar = VAE_MNIST(data)\n",
    "    plt.imshow(x_hat.view(1,28,28).squeeze().data.numpy(), cmap='gray')\n",
    "    plt.title('%i' % train_data.train_labels[batch_idx])\n",
    "    plt.show()\n",
    "    if batch_idx == 3:\n",
    "        break\n"
   ]
  },
  {
   "cell_type": "markdown",
   "metadata": {
    "deletable": false,
    "editable": false,
    "nbgrader": {
     "checksum": "7f559122b150f5f1228d6b66b62f462c",
     "grade": false,
     "grade_id": "cell-76649d51fdf133dc",
     "locked": true,
     "schema_version": 1,
     "solution": false
    }
   },
   "source": [
    "### 2.8 Visualize latent space (20 points)\n",
    "Now, implement the auto-encoder now with a 2-dimensional latent space, and train again over the MNIST data. Make a visualization of the learned manifold by using a linearly spaced coordinate grid as input for the latent space, as seen in  https://arxiv.org/abs/1312.6114 Figure 4."
   ]
  },
  {
   "cell_type": "code",
   "execution_count": 83,
   "metadata": {
    "deletable": false,
    "nbgrader": {
     "checksum": "c879ffdb0d355349d7144a33d16ca93a",
     "grade": true,
     "grade_id": "cell-4a0af6d08d055bee",
     "locked": false,
     "points": 20,
     "schema_version": 1,
     "solution": true
    },
    "scrolled": true
   },
   "outputs": [
    {
     "name": "stdout",
     "output_type": "stream",
     "text": [
      "Train Epoch: 1 [0/60000 (0%)]\tLoss: 8.642482\n",
      "Train Epoch: 1 [6400/60000 (11%)]\tLoss: 2.772551\n",
      "Train Epoch: 1 [12800/60000 (21%)]\tLoss: 2.641724\n",
      "Train Epoch: 1 [19200/60000 (32%)]\tLoss: 2.633014\n",
      "Train Epoch: 1 [25600/60000 (43%)]\tLoss: 2.620922\n",
      "Train Epoch: 1 [32000/60000 (53%)]\tLoss: 2.392898\n",
      "Train Epoch: 1 [38400/60000 (64%)]\tLoss: 2.447064\n",
      "Train Epoch: 1 [44800/60000 (75%)]\tLoss: 2.457188\n",
      "Train Epoch: 1 [51200/60000 (85%)]\tLoss: 2.658175\n",
      "Train Epoch: 1 [57600/60000 (96%)]\tLoss: 2.753076\n",
      "====> Epoch: 1 Average loss: 2.6463\n",
      "Train Epoch: 2 [0/60000 (0%)]\tLoss: 2.368984\n",
      "Train Epoch: 2 [6400/60000 (11%)]\tLoss: 2.593647\n",
      "Train Epoch: 2 [12800/60000 (21%)]\tLoss: 2.471604\n",
      "Train Epoch: 2 [19200/60000 (32%)]\tLoss: 2.386182\n",
      "Train Epoch: 2 [25600/60000 (43%)]\tLoss: 2.391624\n",
      "Train Epoch: 2 [32000/60000 (53%)]\tLoss: 2.438774\n",
      "Train Epoch: 2 [38400/60000 (64%)]\tLoss: 2.633069\n",
      "Train Epoch: 2 [44800/60000 (75%)]\tLoss: 2.463244\n",
      "Train Epoch: 2 [51200/60000 (85%)]\tLoss: 2.488612\n",
      "Train Epoch: 2 [57600/60000 (96%)]\tLoss: 2.427203\n",
      "====> Epoch: 2 Average loss: 2.5114\n",
      "Train Epoch: 3 [0/60000 (0%)]\tLoss: 2.647323\n",
      "Train Epoch: 3 [6400/60000 (11%)]\tLoss: 2.486190\n",
      "Train Epoch: 3 [12800/60000 (21%)]\tLoss: 2.491380\n",
      "Train Epoch: 3 [19200/60000 (32%)]\tLoss: 2.638570\n",
      "Train Epoch: 3 [25600/60000 (43%)]\tLoss: 2.346283\n",
      "Train Epoch: 3 [32000/60000 (53%)]\tLoss: 2.375024\n",
      "Train Epoch: 3 [38400/60000 (64%)]\tLoss: 2.192274\n",
      "Train Epoch: 3 [44800/60000 (75%)]\tLoss: 2.343592\n",
      "Train Epoch: 3 [51200/60000 (85%)]\tLoss: 2.559845\n",
      "Train Epoch: 3 [57600/60000 (96%)]\tLoss: 2.434166\n",
      "====> Epoch: 3 Average loss: 2.4862\n",
      "Train Epoch: 4 [0/60000 (0%)]\tLoss: 2.374017\n",
      "Train Epoch: 4 [6400/60000 (11%)]\tLoss: 2.543941\n",
      "Train Epoch: 4 [12800/60000 (21%)]\tLoss: 2.386756\n",
      "Train Epoch: 4 [19200/60000 (32%)]\tLoss: 2.288212\n",
      "Train Epoch: 4 [25600/60000 (43%)]\tLoss: 2.365231\n",
      "Train Epoch: 4 [32000/60000 (53%)]\tLoss: 2.533554\n",
      "Train Epoch: 4 [38400/60000 (64%)]\tLoss: 2.602999\n",
      "Train Epoch: 4 [44800/60000 (75%)]\tLoss: 2.460968\n",
      "Train Epoch: 4 [51200/60000 (85%)]\tLoss: 2.500741\n",
      "Train Epoch: 4 [57600/60000 (96%)]\tLoss: 2.489852\n",
      "====> Epoch: 4 Average loss: 2.4636\n",
      "Train Epoch: 5 [0/60000 (0%)]\tLoss: 2.447256\n",
      "Train Epoch: 5 [6400/60000 (11%)]\tLoss: 2.541316\n",
      "Train Epoch: 5 [12800/60000 (21%)]\tLoss: 2.377765\n",
      "Train Epoch: 5 [19200/60000 (32%)]\tLoss: 2.440627\n",
      "Train Epoch: 5 [25600/60000 (43%)]\tLoss: 2.514560\n",
      "Train Epoch: 5 [32000/60000 (53%)]\tLoss: 2.411567\n",
      "Train Epoch: 5 [38400/60000 (64%)]\tLoss: 2.415657\n",
      "Train Epoch: 5 [44800/60000 (75%)]\tLoss: 2.490336\n",
      "Train Epoch: 5 [51200/60000 (85%)]\tLoss: 2.407484\n",
      "Train Epoch: 5 [57600/60000 (96%)]\tLoss: 2.523308\n",
      "====> Epoch: 5 Average loss: 2.4529\n",
      "Train Epoch: 6 [0/60000 (0%)]\tLoss: 2.405026\n",
      "Train Epoch: 6 [6400/60000 (11%)]\tLoss: 2.412298\n",
      "Train Epoch: 6 [12800/60000 (21%)]\tLoss: 2.367031\n",
      "Train Epoch: 6 [19200/60000 (32%)]\tLoss: 2.327183\n",
      "Train Epoch: 6 [25600/60000 (43%)]\tLoss: 2.380833\n",
      "Train Epoch: 6 [32000/60000 (53%)]\tLoss: 2.372902\n",
      "Train Epoch: 6 [38400/60000 (64%)]\tLoss: 2.667806\n",
      "Train Epoch: 6 [44800/60000 (75%)]\tLoss: 2.565011\n",
      "Train Epoch: 6 [51200/60000 (85%)]\tLoss: 2.426926\n",
      "Train Epoch: 6 [57600/60000 (96%)]\tLoss: 2.458405\n",
      "====> Epoch: 6 Average loss: 2.4443\n",
      "Train Epoch: 7 [0/60000 (0%)]\tLoss: 2.350605\n",
      "Train Epoch: 7 [6400/60000 (11%)]\tLoss: 2.432742\n",
      "Train Epoch: 7 [12800/60000 (21%)]\tLoss: 2.384356\n",
      "Train Epoch: 7 [19200/60000 (32%)]\tLoss: 2.336535\n",
      "Train Epoch: 7 [25600/60000 (43%)]\tLoss: 2.407892\n",
      "Train Epoch: 7 [32000/60000 (53%)]\tLoss: 2.401976\n",
      "Train Epoch: 7 [38400/60000 (64%)]\tLoss: 2.504368\n",
      "Train Epoch: 7 [44800/60000 (75%)]\tLoss: 2.363861\n",
      "Train Epoch: 7 [51200/60000 (85%)]\tLoss: 2.525548\n",
      "Train Epoch: 7 [57600/60000 (96%)]\tLoss: 2.476311\n",
      "====> Epoch: 7 Average loss: 2.4345\n",
      "Train Epoch: 8 [0/60000 (0%)]\tLoss: 2.352638\n",
      "Train Epoch: 8 [6400/60000 (11%)]\tLoss: 2.368758\n",
      "Train Epoch: 8 [12800/60000 (21%)]\tLoss: 2.530072\n",
      "Train Epoch: 8 [19200/60000 (32%)]\tLoss: 2.573198\n",
      "Train Epoch: 8 [25600/60000 (43%)]\tLoss: 2.465347\n",
      "Train Epoch: 8 [32000/60000 (53%)]\tLoss: 2.509083\n",
      "Train Epoch: 8 [38400/60000 (64%)]\tLoss: 2.413447\n",
      "Train Epoch: 8 [44800/60000 (75%)]\tLoss: 2.493219\n",
      "Train Epoch: 8 [51200/60000 (85%)]\tLoss: 2.365149\n",
      "Train Epoch: 8 [57600/60000 (96%)]\tLoss: 2.512747\n",
      "====> Epoch: 8 Average loss: 2.4283\n",
      "Train Epoch: 9 [0/60000 (0%)]\tLoss: 2.581900\n",
      "Train Epoch: 9 [6400/60000 (11%)]\tLoss: 2.593138\n",
      "Train Epoch: 9 [12800/60000 (21%)]\tLoss: 2.357670\n",
      "Train Epoch: 9 [19200/60000 (32%)]\tLoss: 2.405612\n",
      "Train Epoch: 9 [25600/60000 (43%)]\tLoss: 2.532501\n",
      "Train Epoch: 9 [32000/60000 (53%)]\tLoss: 2.501955\n",
      "Train Epoch: 9 [38400/60000 (64%)]\tLoss: 2.416588\n",
      "Train Epoch: 9 [44800/60000 (75%)]\tLoss: 2.315879\n",
      "Train Epoch: 9 [51200/60000 (85%)]\tLoss: 2.451479\n",
      "Train Epoch: 9 [57600/60000 (96%)]\tLoss: 2.592695\n",
      "====> Epoch: 9 Average loss: 2.4254\n",
      "Train Epoch: 10 [0/60000 (0%)]\tLoss: 2.530827\n",
      "Train Epoch: 10 [6400/60000 (11%)]\tLoss: 2.479030\n",
      "Train Epoch: 10 [12800/60000 (21%)]\tLoss: 2.652214\n",
      "Train Epoch: 10 [19200/60000 (32%)]\tLoss: 2.470639\n",
      "Train Epoch: 10 [25600/60000 (43%)]\tLoss: 2.605552\n",
      "Train Epoch: 10 [32000/60000 (53%)]\tLoss: 2.422498\n",
      "Train Epoch: 10 [38400/60000 (64%)]\tLoss: 2.479760\n",
      "Train Epoch: 10 [44800/60000 (75%)]\tLoss: 2.499434\n",
      "Train Epoch: 10 [51200/60000 (85%)]\tLoss: 2.605404\n",
      "Train Epoch: 10 [57600/60000 (96%)]\tLoss: 2.238860\n",
      "====> Epoch: 10 Average loss: 2.4193\n",
      "Train Epoch: 11 [0/60000 (0%)]\tLoss: 2.418976\n",
      "Train Epoch: 11 [6400/60000 (11%)]\tLoss: 2.473050\n",
      "Train Epoch: 11 [12800/60000 (21%)]\tLoss: 2.389093\n",
      "Train Epoch: 11 [19200/60000 (32%)]\tLoss: 2.458057\n",
      "Train Epoch: 11 [25600/60000 (43%)]\tLoss: 2.272471\n",
      "Train Epoch: 11 [32000/60000 (53%)]\tLoss: 2.455210\n",
      "Train Epoch: 11 [38400/60000 (64%)]\tLoss: 2.431806\n",
      "Train Epoch: 11 [44800/60000 (75%)]\tLoss: 2.623238\n",
      "Train Epoch: 11 [51200/60000 (85%)]\tLoss: 2.320773\n",
      "Train Epoch: 11 [57600/60000 (96%)]\tLoss: 2.517285\n",
      "====> Epoch: 11 Average loss: 2.4193\n",
      "Train Epoch: 12 [0/60000 (0%)]\tLoss: 2.441487\n",
      "Train Epoch: 12 [6400/60000 (11%)]\tLoss: 2.585124\n",
      "Train Epoch: 12 [12800/60000 (21%)]\tLoss: 2.122339\n",
      "Train Epoch: 12 [19200/60000 (32%)]\tLoss: 2.361936\n",
      "Train Epoch: 12 [25600/60000 (43%)]\tLoss: 2.349217\n",
      "Train Epoch: 12 [32000/60000 (53%)]\tLoss: 2.481369\n",
      "Train Epoch: 12 [38400/60000 (64%)]\tLoss: 2.320819\n",
      "Train Epoch: 12 [44800/60000 (75%)]\tLoss: 2.258045\n",
      "Train Epoch: 12 [51200/60000 (85%)]\tLoss: 2.398389\n",
      "Train Epoch: 12 [57600/60000 (96%)]\tLoss: 2.455309\n",
      "====> Epoch: 12 Average loss: 2.4144\n",
      "Train Epoch: 13 [0/60000 (0%)]\tLoss: 2.435162\n",
      "Train Epoch: 13 [6400/60000 (11%)]\tLoss: 2.256690\n",
      "Train Epoch: 13 [12800/60000 (21%)]\tLoss: 2.297203\n",
      "Train Epoch: 13 [19200/60000 (32%)]\tLoss: 2.508404\n",
      "Train Epoch: 13 [25600/60000 (43%)]\tLoss: 2.370060\n",
      "Train Epoch: 13 [32000/60000 (53%)]\tLoss: 2.533056\n",
      "Train Epoch: 13 [38400/60000 (64%)]\tLoss: 2.495111\n",
      "Train Epoch: 13 [44800/60000 (75%)]\tLoss: 2.499346\n",
      "Train Epoch: 13 [51200/60000 (85%)]\tLoss: 2.460541\n",
      "Train Epoch: 13 [57600/60000 (96%)]\tLoss: 2.387062\n",
      "====> Epoch: 13 Average loss: 2.4121\n",
      "Train Epoch: 14 [0/60000 (0%)]\tLoss: 2.374440\n",
      "Train Epoch: 14 [6400/60000 (11%)]\tLoss: 2.476407\n",
      "Train Epoch: 14 [12800/60000 (21%)]\tLoss: 2.360684\n",
      "Train Epoch: 14 [19200/60000 (32%)]\tLoss: 2.176676\n",
      "Train Epoch: 14 [25600/60000 (43%)]\tLoss: 2.232380\n",
      "Train Epoch: 14 [32000/60000 (53%)]\tLoss: 2.424328\n",
      "Train Epoch: 14 [38400/60000 (64%)]\tLoss: 2.234007\n",
      "Train Epoch: 14 [44800/60000 (75%)]\tLoss: 2.315008\n",
      "Train Epoch: 14 [51200/60000 (85%)]\tLoss: 2.464541\n",
      "Train Epoch: 14 [57600/60000 (96%)]\tLoss: 2.362132\n",
      "====> Epoch: 14 Average loss: 2.4111\n",
      "Train Epoch: 15 [0/60000 (0%)]\tLoss: 2.444931\n",
      "Train Epoch: 15 [6400/60000 (11%)]\tLoss: 2.387252\n",
      "Train Epoch: 15 [12800/60000 (21%)]\tLoss: 2.517382\n",
      "Train Epoch: 15 [19200/60000 (32%)]\tLoss: 2.334704\n",
      "Train Epoch: 15 [25600/60000 (43%)]\tLoss: 2.393133\n",
      "Train Epoch: 15 [32000/60000 (53%)]\tLoss: 2.465728\n",
      "Train Epoch: 15 [38400/60000 (64%)]\tLoss: 2.149715\n",
      "Train Epoch: 15 [44800/60000 (75%)]\tLoss: 2.610464\n",
      "Train Epoch: 15 [51200/60000 (85%)]\tLoss: 2.373062\n",
      "Train Epoch: 15 [57600/60000 (96%)]\tLoss: 2.402752\n",
      "====> Epoch: 15 Average loss: 2.4062\n",
      "Train Epoch: 16 [0/60000 (0%)]\tLoss: 2.497767\n",
      "Train Epoch: 16 [6400/60000 (11%)]\tLoss: 2.327212\n",
      "Train Epoch: 16 [12800/60000 (21%)]\tLoss: 2.323641\n",
      "Train Epoch: 16 [19200/60000 (32%)]\tLoss: 2.476635\n"
     ]
    },
    {
     "name": "stdout",
     "output_type": "stream",
     "text": [
      "Train Epoch: 16 [25600/60000 (43%)]\tLoss: 2.229023\n",
      "Train Epoch: 16 [32000/60000 (53%)]\tLoss: 2.542593\n",
      "Train Epoch: 16 [38400/60000 (64%)]\tLoss: 2.388438\n",
      "Train Epoch: 16 [44800/60000 (75%)]\tLoss: 2.297935\n",
      "Train Epoch: 16 [51200/60000 (85%)]\tLoss: 2.469717\n",
      "Train Epoch: 16 [57600/60000 (96%)]\tLoss: 2.492346\n",
      "====> Epoch: 16 Average loss: 2.4031\n",
      "Train Epoch: 17 [0/60000 (0%)]\tLoss: 2.362719\n",
      "Train Epoch: 17 [6400/60000 (11%)]\tLoss: 2.413654\n",
      "Train Epoch: 17 [12800/60000 (21%)]\tLoss: 2.348216\n",
      "Train Epoch: 17 [19200/60000 (32%)]\tLoss: 2.245595\n",
      "Train Epoch: 17 [25600/60000 (43%)]\tLoss: 2.429130\n",
      "Train Epoch: 17 [32000/60000 (53%)]\tLoss: 2.357354\n",
      "Train Epoch: 17 [38400/60000 (64%)]\tLoss: 2.256373\n",
      "Train Epoch: 17 [44800/60000 (75%)]\tLoss: 2.435902\n",
      "Train Epoch: 17 [51200/60000 (85%)]\tLoss: 2.487072\n",
      "Train Epoch: 17 [57600/60000 (96%)]\tLoss: 2.667891\n",
      "====> Epoch: 17 Average loss: 2.4050\n",
      "Train Epoch: 18 [0/60000 (0%)]\tLoss: 2.300925\n",
      "Train Epoch: 18 [6400/60000 (11%)]\tLoss: 2.337950\n",
      "Train Epoch: 18 [12800/60000 (21%)]\tLoss: 2.302544\n",
      "Train Epoch: 18 [19200/60000 (32%)]\tLoss: 2.364884\n",
      "Train Epoch: 18 [25600/60000 (43%)]\tLoss: 2.141446\n",
      "Train Epoch: 18 [32000/60000 (53%)]\tLoss: 2.253927\n",
      "Train Epoch: 18 [38400/60000 (64%)]\tLoss: 2.242736\n",
      "Train Epoch: 18 [44800/60000 (75%)]\tLoss: 2.392476\n",
      "Train Epoch: 18 [51200/60000 (85%)]\tLoss: 2.092865\n",
      "Train Epoch: 18 [57600/60000 (96%)]\tLoss: 2.293530\n",
      "====> Epoch: 18 Average loss: 2.4005\n",
      "Train Epoch: 19 [0/60000 (0%)]\tLoss: 2.354715\n",
      "Train Epoch: 19 [6400/60000 (11%)]\tLoss: 2.318479\n",
      "Train Epoch: 19 [12800/60000 (21%)]\tLoss: 2.230969\n",
      "Train Epoch: 19 [19200/60000 (32%)]\tLoss: 2.419953\n",
      "Train Epoch: 19 [25600/60000 (43%)]\tLoss: 2.428986\n",
      "Train Epoch: 19 [32000/60000 (53%)]\tLoss: 2.251988\n",
      "Train Epoch: 19 [38400/60000 (64%)]\tLoss: 2.363290\n",
      "Train Epoch: 19 [44800/60000 (75%)]\tLoss: 2.088338\n",
      "Train Epoch: 19 [51200/60000 (85%)]\tLoss: 2.294808\n",
      "Train Epoch: 19 [57600/60000 (96%)]\tLoss: 2.439371\n",
      "====> Epoch: 19 Average loss: 2.3992\n",
      "Train Epoch: 20 [0/60000 (0%)]\tLoss: 2.314659\n",
      "Train Epoch: 20 [6400/60000 (11%)]\tLoss: 2.187957\n",
      "Train Epoch: 20 [12800/60000 (21%)]\tLoss: 2.334175\n",
      "Train Epoch: 20 [19200/60000 (32%)]\tLoss: 2.497576\n",
      "Train Epoch: 20 [25600/60000 (43%)]\tLoss: 2.279845\n",
      "Train Epoch: 20 [32000/60000 (53%)]\tLoss: 2.244562\n",
      "Train Epoch: 20 [38400/60000 (64%)]\tLoss: 2.354119\n",
      "Train Epoch: 20 [44800/60000 (75%)]\tLoss: 2.321936\n",
      "Train Epoch: 20 [51200/60000 (85%)]\tLoss: 2.582239\n",
      "Train Epoch: 20 [57600/60000 (96%)]\tLoss: 2.371329\n",
      "====> Epoch: 20 Average loss: 2.3996\n"
     ]
    }
   ],
   "source": [
    "# Hyperparameters with 2-dimensional latent space\n",
    "fc1_dims2 = (784,300)\n",
    "fc21_dims2 = (300,2)\n",
    "fc22_dims2 = (300,2)\n",
    "fc3_dims2 = (2,300)\n",
    "fc4_dims2 = (300,784)\n",
    "lr2 = 0.01\n",
    "batch_size2 = 64\n",
    "epochs2 = 20\n",
    "\n",
    "\n",
    "# Data loader\n",
    "train_loader = torch.utils.data.DataLoader(train_data,\n",
    "                                           batch_size=batch_size2, shuffle=True, **{})\n",
    "\n",
    "# Init model\n",
    "VAE_MNIST_2D = VAE(fc1_dims=fc1_dims2, fc21_dims=fc21_dims2, fc22_dims=fc22_dims2, fc3_dims=fc3_dims2,\n",
    "                   fc4_dims=fc4_dims2)\n",
    "\n",
    "# Init optimizer\n",
    "optimizer = optim.Adam(VAE_MNIST_2D.parameters(), lr=lr2)\n",
    "\n",
    "# Train\n",
    "for epoch in range(1, epochs2 + 1):\n",
    "    train(epoch, train_loader, VAE_MNIST_2D, optimizer)"
   ]
  },
  {
   "cell_type": "code",
   "execution_count": 84,
   "metadata": {},
   "outputs": [
    {
     "data": {
      "image/png": "[encoded data removed]",
      "text/plain": [
       "<Figure size 432x288 with 1 Axes>"
      ]
     },
     "metadata": {},
     "output_type": "display_data"
    },
    {
     "data": {
      "image/png": "[encoded data removed]",
      "text/plain": [
       "<Figure size 432x288 with 1 Axes>"
      ]
     },
     "metadata": {},
     "output_type": "display_data"
    },
    {
     "data": {
      "image/png": "[encoded data removed]",
      "text/plain": [
       "<Figure size 432x288 with 1 Axes>"
      ]
     },
     "metadata": {},
     "output_type": "display_data"
    },
    {
     "data": {
      "image/png": "[encoded data removed]",
      "text/plain": [
       "<Figure size 432x288 with 1 Axes>"
      ]
     },
     "metadata": {},
     "output_type": "display_data"
    }
   ],
   "source": [
    "for batch_idx, (data, _) in enumerate(train_loader_plot):\n",
    "    x_hat, mu, logvar = VAE_MNIST_2D(data)\n",
    "    plt.imshow(x_hat.view(1,28,28).squeeze().data.numpy(), cmap='gray')\n",
    "    plt.title('%i' % train_data.train_labels[batch_idx])\n",
    "    plt.show()\n",
    "    if batch_idx == 3:\n",
    "        break"
   ]
  },
  {
   "cell_type": "code",
   "execution_count": 119,
   "metadata": {},
   "outputs": [
    {
     "ename": "RuntimeError",
     "evalue": "Expected object of type torch.DoubleTensor but found type torch.FloatTensor for argument #2 'mat2'",
     "output_type": "error",
     "traceback": [
      "\u001b[0;31m-----------------------------------------------------------------------\u001b[0m",
      "\u001b[0;31mRuntimeError\u001b[0m                          Traceback (most recent call last)",
      "\u001b[0;32m<ipython-input-119-f57b9bd4de73>\u001b[0m in \u001b[0;36m<module>\u001b[0;34m()\u001b[0m\n\u001b[1;32m     12\u001b[0m \u001b[0;34m\u001b[0m\u001b[0m\n\u001b[1;32m     13\u001b[0m         \u001b[0mz\u001b[0m \u001b[0;34m=\u001b[0m \u001b[0mnorm\u001b[0m\u001b[0;34m.\u001b[0m\u001b[0mppf\u001b[0m\u001b[0;34m(\u001b[0m\u001b[0mnp\u001b[0m\u001b[0;34m.\u001b[0m\u001b[0marray\u001b[0m\u001b[0;34m(\u001b[0m\u001b[0;34m[\u001b[0m\u001b[0md1_val\u001b[0m\u001b[0;34m,\u001b[0m \u001b[0md2_val\u001b[0m\u001b[0;34m]\u001b[0m\u001b[0;34m)\u001b[0m\u001b[0;34m)\u001b[0m\u001b[0;34m\u001b[0m\u001b[0m\n\u001b[0;32m---> 14\u001b[0;31m         \u001b[0mx_hat\u001b[0m \u001b[0;34m=\u001b[0m \u001b[0mVAE_MNIST_2D\u001b[0m\u001b[0;34m.\u001b[0m\u001b[0mdecode\u001b[0m\u001b[0;34m(\u001b[0m\u001b[0mtorch\u001b[0m\u001b[0;34m.\u001b[0m\u001b[0mtensor\u001b[0m\u001b[0;34m(\u001b[0m\u001b[0mz\u001b[0m\u001b[0;34m)\u001b[0m\u001b[0;34m.\u001b[0m\u001b[0mdouble\u001b[0m\u001b[0;34m(\u001b[0m\u001b[0;34m)\u001b[0m\u001b[0;34m)\u001b[0m\u001b[0;34m\u001b[0m\u001b[0m\n\u001b[0m\u001b[1;32m     15\u001b[0m         \u001b[0mprint\u001b[0m\u001b[0;34m(\u001b[0m\u001b[0mx_hat\u001b[0m\u001b[0;34m.\u001b[0m\u001b[0mshape\u001b[0m\u001b[0;34m)\u001b[0m\u001b[0;34m\u001b[0m\u001b[0m\n\u001b[1;32m     16\u001b[0m         \u001b[0;32mbreak\u001b[0m\u001b[0;34m\u001b[0m\u001b[0m\n",
      "\u001b[0;32m<ipython-input-60-636657253e9f>\u001b[0m in \u001b[0;36mdecode\u001b[0;34m(self, z)\u001b[0m\n\u001b[1;32m      1\u001b[0m \u001b[0;32mdef\u001b[0m \u001b[0mdecode\u001b[0m\u001b[0;34m(\u001b[0m\u001b[0mself\u001b[0m\u001b[0;34m,\u001b[0m \u001b[0mz\u001b[0m\u001b[0;34m)\u001b[0m\u001b[0;34m:\u001b[0m\u001b[0;34m\u001b[0m\u001b[0m\n\u001b[0;32m----> 2\u001b[0;31m     \u001b[0mlayer1\u001b[0m \u001b[0;34m=\u001b[0m \u001b[0mF\u001b[0m\u001b[0;34m.\u001b[0m\u001b[0mrelu\u001b[0m\u001b[0;34m(\u001b[0m\u001b[0mself\u001b[0m\u001b[0;34m.\u001b[0m\u001b[0mfc3\u001b[0m\u001b[0;34m(\u001b[0m\u001b[0mz\u001b[0m\u001b[0;34m)\u001b[0m\u001b[0;34m)\u001b[0m\u001b[0;34m\u001b[0m\u001b[0m\n\u001b[0m\u001b[1;32m      3\u001b[0m     \u001b[0;32mreturn\u001b[0m \u001b[0mF\u001b[0m\u001b[0;34m.\u001b[0m\u001b[0msigmoid\u001b[0m\u001b[0;34m(\u001b[0m\u001b[0mself\u001b[0m\u001b[0;34m.\u001b[0m\u001b[0mfc4\u001b[0m\u001b[0;34m(\u001b[0m\u001b[0mlayer1\u001b[0m\u001b[0;34m)\u001b[0m\u001b[0;34m)\u001b[0m\u001b[0;34m\u001b[0m\u001b[0m\n",
      "\u001b[0;32m~/Programs/Miniconda/Installation/envs/ml2labs/lib/python3.6/site-packages/torch/nn/modules/module.py\u001b[0m in \u001b[0;36m__call__\u001b[0;34m(self, *input, **kwargs)\u001b[0m\n\u001b[1;32m    489\u001b[0m             \u001b[0mresult\u001b[0m \u001b[0;34m=\u001b[0m \u001b[0mself\u001b[0m\u001b[0;34m.\u001b[0m\u001b[0m_slow_forward\u001b[0m\u001b[0;34m(\u001b[0m\u001b[0;34m*\u001b[0m\u001b[0minput\u001b[0m\u001b[0;34m,\u001b[0m \u001b[0;34m**\u001b[0m\u001b[0mkwargs\u001b[0m\u001b[0;34m)\u001b[0m\u001b[0;34m\u001b[0m\u001b[0m\n\u001b[1;32m    490\u001b[0m         \u001b[0;32melse\u001b[0m\u001b[0;34m:\u001b[0m\u001b[0;34m\u001b[0m\u001b[0m\n\u001b[0;32m--> 491\u001b[0;31m             \u001b[0mresult\u001b[0m \u001b[0;34m=\u001b[0m \u001b[0mself\u001b[0m\u001b[0;34m.\u001b[0m\u001b[0mforward\u001b[0m\u001b[0;34m(\u001b[0m\u001b[0;34m*\u001b[0m\u001b[0minput\u001b[0m\u001b[0;34m,\u001b[0m \u001b[0;34m**\u001b[0m\u001b[0mkwargs\u001b[0m\u001b[0;34m)\u001b[0m\u001b[0;34m\u001b[0m\u001b[0m\n\u001b[0m\u001b[1;32m    492\u001b[0m         \u001b[0;32mfor\u001b[0m \u001b[0mhook\u001b[0m \u001b[0;32min\u001b[0m \u001b[0mself\u001b[0m\u001b[0;34m.\u001b[0m\u001b[0m_forward_hooks\u001b[0m\u001b[0;34m.\u001b[0m\u001b[0mvalues\u001b[0m\u001b[0;34m(\u001b[0m\u001b[0;34m)\u001b[0m\u001b[0;34m:\u001b[0m\u001b[0;34m\u001b[0m\u001b[0m\n\u001b[1;32m    493\u001b[0m             \u001b[0mhook_result\u001b[0m \u001b[0;34m=\u001b[0m \u001b[0mhook\u001b[0m\u001b[0;34m(\u001b[0m\u001b[0mself\u001b[0m\u001b[0;34m,\u001b[0m \u001b[0minput\u001b[0m\u001b[0;34m,\u001b[0m \u001b[0mresult\u001b[0m\u001b[0;34m)\u001b[0m\u001b[0;34m\u001b[0m\u001b[0m\n",
      "\u001b[0;32m~/Programs/Miniconda/Installation/envs/ml2labs/lib/python3.6/site-packages/torch/nn/modules/linear.py\u001b[0m in \u001b[0;36mforward\u001b[0;34m(self, input)\u001b[0m\n\u001b[1;32m     53\u001b[0m \u001b[0;34m\u001b[0m\u001b[0m\n\u001b[1;32m     54\u001b[0m     \u001b[0;32mdef\u001b[0m \u001b[0mforward\u001b[0m\u001b[0;34m(\u001b[0m\u001b[0mself\u001b[0m\u001b[0;34m,\u001b[0m \u001b[0minput\u001b[0m\u001b[0;34m)\u001b[0m\u001b[0;34m:\u001b[0m\u001b[0;34m\u001b[0m\u001b[0m\n\u001b[0;32m---> 55\u001b[0;31m         \u001b[0;32mreturn\u001b[0m \u001b[0mF\u001b[0m\u001b[0;34m.\u001b[0m\u001b[0mlinear\u001b[0m\u001b[0;34m(\u001b[0m\u001b[0minput\u001b[0m\u001b[0;34m,\u001b[0m \u001b[0mself\u001b[0m\u001b[0;34m.\u001b[0m\u001b[0mweight\u001b[0m\u001b[0;34m,\u001b[0m \u001b[0mself\u001b[0m\u001b[0;34m.\u001b[0m\u001b[0mbias\u001b[0m\u001b[0;34m)\u001b[0m\u001b[0;34m\u001b[0m\u001b[0m\n\u001b[0m\u001b[1;32m     56\u001b[0m \u001b[0;34m\u001b[0m\u001b[0m\n\u001b[1;32m     57\u001b[0m     \u001b[0;32mdef\u001b[0m \u001b[0mextra_repr\u001b[0m\u001b[0;34m(\u001b[0m\u001b[0mself\u001b[0m\u001b[0;34m)\u001b[0m\u001b[0;34m:\u001b[0m\u001b[0;34m\u001b[0m\u001b[0m\n",
      "\u001b[0;32m~/Programs/Miniconda/Installation/envs/ml2labs/lib/python3.6/site-packages/torch/nn/functional.py\u001b[0m in \u001b[0;36mlinear\u001b[0;34m(input, weight, bias)\u001b[0m\n\u001b[1;32m    992\u001b[0m         \u001b[0;32mreturn\u001b[0m \u001b[0mtorch\u001b[0m\u001b[0;34m.\u001b[0m\u001b[0maddmm\u001b[0m\u001b[0;34m(\u001b[0m\u001b[0mbias\u001b[0m\u001b[0;34m,\u001b[0m \u001b[0minput\u001b[0m\u001b[0;34m,\u001b[0m \u001b[0mweight\u001b[0m\u001b[0;34m.\u001b[0m\u001b[0mt\u001b[0m\u001b[0;34m(\u001b[0m\u001b[0;34m)\u001b[0m\u001b[0;34m)\u001b[0m\u001b[0;34m\u001b[0m\u001b[0m\n\u001b[1;32m    993\u001b[0m \u001b[0;34m\u001b[0m\u001b[0m\n\u001b[0;32m--> 994\u001b[0;31m     \u001b[0moutput\u001b[0m \u001b[0;34m=\u001b[0m \u001b[0minput\u001b[0m\u001b[0;34m.\u001b[0m\u001b[0mmatmul\u001b[0m\u001b[0;34m(\u001b[0m\u001b[0mweight\u001b[0m\u001b[0;34m.\u001b[0m\u001b[0mt\u001b[0m\u001b[0;34m(\u001b[0m\u001b[0;34m)\u001b[0m\u001b[0;34m)\u001b[0m\u001b[0;34m\u001b[0m\u001b[0m\n\u001b[0m\u001b[1;32m    995\u001b[0m     \u001b[0;32mif\u001b[0m \u001b[0mbias\u001b[0m \u001b[0;32mis\u001b[0m \u001b[0;32mnot\u001b[0m \u001b[0;32mNone\u001b[0m\u001b[0;34m:\u001b[0m\u001b[0;34m\u001b[0m\u001b[0m\n\u001b[1;32m    996\u001b[0m         \u001b[0moutput\u001b[0m \u001b[0;34m+=\u001b[0m \u001b[0mbias\u001b[0m\u001b[0;34m\u001b[0m\u001b[0m\n",
      "\u001b[0;31mRuntimeError\u001b[0m: Expected object of type torch.DoubleTensor but found type torch.FloatTensor for argument #2 'mat2'"
     ]
    }
   ],
   "source": [
    "from scipy.stats import norm\n",
    "\n",
    "nd1 = nd2 = 40\n",
    "\n",
    "non_exact_limit = 1e-5\n",
    "d1_vals = d2_vals = np.linspace(0 + non_exact_limit, 1 - non_exact_limit, nd1)\n",
    "\n",
    "canvas = np.empty((28*nd1, 28*nd2))\n",
    "\n",
    "for i, d1_val in enumerate(d1_vals):\n",
    "    for j, d2_val in enumerate(d2_vals):\n",
    "        \n",
    "        z = norm.ppf(np.array([d1_val, d2_val]))\n",
    "        x_hat = VAE_MNIST_2D.decode(torch.tensor(z).double())\n",
    "        print(x_hat.shape)\n",
    "        break"
   ]
  },
  {
   "cell_type": "code",
   "execution_count": 118,
   "metadata": {},
   "outputs": [
    {
     "name": "stdout",
     "output_type": "stream",
     "text": [
      "torch.Size([128, 2])\n",
      "torch.Size([128, 2])\n",
      "torch.Size([128, 2])\n",
      "torch.Size([128, 2])\n",
      "torch.Size([128, 2])\n",
      "torch.Size([128, 2])\n",
      "torch.Size([128, 2])\n",
      "torch.Size([128, 2])\n",
      "torch.Size([128, 2])\n",
      "torch.Size([128, 2])\n",
      "torch.Size([128, 2])\n",
      "torch.Size([128, 2])\n",
      "torch.Size([128, 2])\n",
      "torch.Size([128, 2])\n",
      "torch.Size([128, 2])\n",
      "torch.Size([128, 2])\n",
      "torch.Size([128, 2])\n",
      "torch.Size([128, 2])\n",
      "torch.Size([128, 2])\n",
      "torch.Size([128, 2])\n"
     ]
    },
    {
     "data": {
      "image/png": "[encoded data removed]",
      "text/plain": [
       "<Figure size 576x720 with 1 Axes>"
      ]
     },
     "metadata": {},
     "output_type": "display_data"
    }
   ],
   "source": [
    "# Reference: https://jmetzen.github.io/2015-11-27/vae.html\n",
    "nx = ny = 20\n",
    "x_values = np.linspace(-3, 3, nx)\n",
    "y_values = np.linspace(-3, 3, ny)\n",
    "\n",
    "canvas = np.empty((28*ny, 28*nx))\n",
    "for i, yi in enumerate(x_values):\n",
    "    for j, xi in enumerate(y_values):\n",
    "        z = np.array([xi,yi], dtype=np.float32)\n",
    "        z = Variable(torch.from_numpy(z))\n",
    "        z_mu = z.repeat(batch_size, 1).view(batch_size,-1)\n",
    "        x_mean = VAE_MNIST_2D.decode(z_mu)\n",
    "        x_mean = (Variable(x_mean).data).cpu().numpy()\n",
    "        canvas[(nx-i-1)*28:(nx-i)*28, j*28:(j+1)*28] = x_mean[0].reshape(28, 28)\n",
    "\n",
    "plt.figure(figsize=(8, 10))        \n",
    "Xi, Yi = np.meshgrid(x_values, y_values)\n",
    "plt.imshow(canvas, origin=\"upper\", cmap=\"gray\")\n",
    "plt.tight_layout()"
   ]
  },
  {
   "cell_type": "markdown",
   "metadata": {
    "deletable": false,
    "editable": false,
    "nbgrader": {
     "checksum": "b9eb1684d646eea84a25638d184bfbda",
     "grade": false,
     "grade_id": "cell-dc5e1247a1e21009",
     "locked": true,
     "schema_version": 1,
     "solution": false
    }
   },
   "source": [
    "### 2.8 Amortized inference (10 points)\n",
    "What is amortized inference? Where in the code of Part 2 is it used? What is the benefit of using it?\n"
   ]
  },
  {
   "cell_type": "markdown",
   "metadata": {
    "deletable": false,
    "nbgrader": {
     "checksum": "364ed922da59070f319d0bdfb0e41d92",
     "grade": true,
     "grade_id": "cell-6f7808a9b0098dbf",
     "locked": false,
     "points": 10,
     "schema_version": 1,
     "solution": true
    }
   },
   "source": [
    "----------------------\n",
    "Normal Variational Inference would require that each training instance had a corresponding variational distribution, with associated parameters. This would become computationally heavy, as each of those distibutions would have parameters, making the total number of parameters grow linearly with the number of data points.\n",
    "On the other hand, amortised inference poses the problem as a regression one. Instead of optimising each variational distribution, a parametric model is learned, that is trained to approximate the variational distribution of each data point.\n",
    "\n",
    "In the case of the VAE this is realised by the encoder.\n",
    "\n",
    "Since the approximation is done with a parametric model, the number of parameters is fixed (i.e., becomes independent of the number of datapoints), turning the problem into a tractable one. Additionally, this parametric function can generalise the approximative distribution to $\\textit{unobserved}$ datapoints, which is a very useful property."
   ]
  }
 ],
 "metadata": {
  "kernelspec": {
   "display_name": "Python 3",
   "language": "python",
   "name": "python3"
  },
  "language_info": {
   "codemirror_mode": {
    "name": "ipython",
    "version": 3
   },
   "file_extension": ".py",
   "mimetype": "text/x-python",
   "name": "python",
   "nbconvert_exporter": "python",
   "pygments_lexer": "ipython3",
   "version": "3.6.4"
  }
 },
 "nbformat": 4,
 "nbformat_minor": 2
}
